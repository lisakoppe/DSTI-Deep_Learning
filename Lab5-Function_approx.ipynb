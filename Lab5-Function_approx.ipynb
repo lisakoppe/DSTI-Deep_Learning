{
  "nbformat": 4,
  "nbformat_minor": 0,
  "metadata": {
    "kernelspec": {
      "name": "python3",
      "display_name": "Python 3"
    },
    "language_info": {
      "codemirror_mode": {
        "name": "ipython",
        "version": 3
      },
      "file_extension": ".py",
      "mimetype": "text/x-python",
      "name": "python",
      "nbconvert_exporter": "python",
      "pygments_lexer": "ipython3",
      "version": "3.7.3"
    },
    "colab": {
      "name": "03-Lab5.ipynb",
      "provenance": [],
      "collapsed_sections": []
    }
  },
  "cells": [
    {
      "cell_type": "markdown",
      "metadata": {
        "id": "BPbtmfqMqsVj",
        "colab_type": "text"
      },
      "source": [
        "# Function approximation with a deep neural network"
      ]
    },
    {
      "cell_type": "markdown",
      "metadata": {
        "id": "lA-dG5TvNT9U",
        "colab_type": "text"
      },
      "source": [
        "## Quartic function and training dataset"
      ]
    },
    {
      "cell_type": "markdown",
      "metadata": {
        "id": "Ze4-03KGq2Gx",
        "colab_type": "text"
      },
      "source": [
        "In algebra, a quartic function is a function of the form\n",
        "$$\n",
        "f(t)=at^{4}+bt^{3}+ct^{2}+dt+e,\n",
        "$$\n",
        "where $a$ is nonzero, which is defined by a polynomial of degree four, called a quartic polynomial."
      ]
    },
    {
      "cell_type": "code",
      "metadata": {
        "id": "XSxuWuabouDj",
        "colab_type": "code",
        "colab": {}
      },
      "source": [
        "%matplotlib inline\n",
        "import numpy as np\n",
        "import matplotlib.pyplot as plt\n",
        "import torch\n"
      ],
      "execution_count": 0,
      "outputs": []
    },
    {
      "cell_type": "markdown",
      "metadata": {
        "id": "uYRSPAtGouDo",
        "colab_type": "text"
      },
      "source": [
        "Define and plot a quartic function"
      ]
    },
    {
      "cell_type": "code",
      "metadata": {
        "id": "JhCmQNviouDu",
        "colab_type": "code",
        "colab": {}
      },
      "source": [
        "D_in = 1\n",
        "D_out = 1\n",
        "\n",
        "# Create random Tensors to hold inputs and outputs\n",
        "x = torch.arange(-9,3.5,0.1).view(-1,1) #(-5,3.5,0.1)\n",
        "y = x**4 + 2*x**3 - 12*x**2 -2*x + 6\n",
        "y = torch.where(x < -5, torch.zeros_like(x), y)\n",
        "N = x.shape[0]"
      ],
      "execution_count": 0,
      "outputs": []
    },
    {
      "cell_type": "code",
      "metadata": {
        "id": "8Upa4fCuouD5",
        "colab_type": "code",
        "outputId": "e30c2110-00f7-4195-df72-eb4bc9d5457c",
        "colab": {
          "base_uri": "https://localhost:8080/",
          "height": 51
        }
      },
      "source": [
        "print(x.size())\n",
        "print(y.size())\n"
      ],
      "execution_count": 3,
      "outputs": [
        {
          "output_type": "stream",
          "text": [
            "torch.Size([125, 1])\n",
            "torch.Size([125, 1])\n"
          ],
          "name": "stdout"
        }
      ]
    },
    {
      "cell_type": "markdown",
      "metadata": {
        "id": "IY7bxmOpsRYq",
        "colab_type": "text"
      },
      "source": [
        "Converting Torch Tensor to NumPy Array for plotting the function"
      ]
    },
    {
      "cell_type": "code",
      "metadata": {
        "id": "L80Arv5FuLj-",
        "colab_type": "code",
        "outputId": "f84a7cb9-df6d-4c56-b5c7-52a6f8a64d3c",
        "colab": {
          "base_uri": "https://localhost:8080/",
          "height": 279
        }
      },
      "source": [
        "fig, ax = plt.subplots()\n",
        "plt.plot(x.numpy(), y.numpy(),'r-',label='Quartic function')\n",
        "plt.xlabel('$x$')\n",
        "plt.ylabel('$f(x)$')\n",
        "plt.show()\n",
        "ax.legend()\n",
        "plt.show()"
      ],
      "execution_count": 4,
      "outputs": [
        {
          "output_type": "display_data",
          "data": {
            "image/png": "[encoded data removed]",
            "text/plain": [
              "<Figure size 432x288 with 1 Axes>"
            ]
          },
          "metadata": {
            "tags": []
          }
        }
      ]
    },
    {
      "cell_type": "markdown",
      "metadata": {
        "id": "vI35l73mNZ0w",
        "colab_type": "text"
      },
      "source": [
        "## Approximation with a deep neural network"
      ]
    },
    {
      "cell_type": "markdown",
      "metadata": {
        "id": "8tJWe_-W1khM",
        "colab_type": "text"
      },
      "source": [
        "### Question: code a deep neural network to approximate the function. The layer will have 3 full-connected layers (followed by a ReLU activation function) and a final full-connected layer without any activation function. You will use the Adam optimizer. Choose the most appropriate loss function. You must compute the loss at each epoch."
      ]
    },
    {
      "cell_type": "code",
      "metadata": {
        "id": "IWija8I3ouDy",
        "colab_type": "code",
        "colab": {
          "base_uri": "https://localhost:8080/",
          "height": 102
        },
        "outputId": "b747ada6-7d2b-4dc7-82e7-4d75280af5bf"
      },
      "source": [
        "import torch\n",
        "\n",
        "H1 = 40 # number of hidden neurons\n",
        "H2 = 20\n",
        "H3 = 20\n",
        "\n",
        "Niter = 5*10**3\n",
        "\n",
        "import numpy as np\n",
        "saveLoss = np.zeros(Niter)\n",
        "\n",
        "# Use the nn package to define our model and loss function.\n",
        "model = torch.nn.Sequential(\n",
        "    torch.nn.Linear(D_in, H1),\n",
        "    torch.nn.ReLU(),\n",
        "    torch.nn.Linear(H1, H2),\n",
        "    torch.nn.ReLU(),\n",
        "    torch.nn.Linear(H2, H3),\n",
        "    torch.nn.ReLU(),\n",
        "    torch.nn.Linear(H3, D_out)\n",
        ")\n",
        "loss_fn = torch.nn.MSELoss(reduction='mean')\n",
        "\n",
        "learning_rate = 1e-2\n",
        "optimizer = torch.optim.Adam(model.parameters(), lr=learning_rate)\n",
        "for t in range(Niter):\n",
        "    # Forward pass: compute predicted y by passing x to the model.\n",
        "    y_pred = model(x)\n",
        "\n",
        "    # Compute and print loss.\n",
        "    loss = loss_fn(y_pred, y)\n",
        "    saveLoss[t] = loss.detach().numpy()\n",
        "    if t % 1000 == 999:\n",
        "        print(t, loss.item())\n",
        "\n",
        "    # Before the backward pass, use the optimizer object to zero all of the\n",
        "    # gradients for the variables it will update (which are the learnable\n",
        "    # weights of the model). This is because by default, gradients are\n",
        "    # accumulated in buffers( i.e, not overwritten) whenever .backward()\n",
        "    # is called. Checkout docs of torch.autograd.backward for more details.\n",
        "    optimizer.zero_grad()\n",
        "\n",
        "    # Backward pass: compute gradient of the loss with respect to model\n",
        "    # parameters\n",
        "    loss.backward()\n",
        "\n",
        "    # Calling the step function on an Optimizer makes an update to its\n",
        "    # parameters\n",
        "    optimizer.step()"
      ],
      "execution_count": 5,
      "outputs": [
        {
          "output_type": "stream",
          "text": [
            "999 5.766939640045166\n",
            "1999 0.19630329310894012\n",
            "2999 0.08856169879436493\n",
            "3999 2.0907797813415527\n",
            "4999 0.4588533341884613\n"
          ],
          "name": "stdout"
        }
      ]
    },
    {
      "cell_type": "markdown",
      "metadata": {
        "id": "VW-RbXaP2OrE",
        "colab_type": "text"
      },
      "source": [
        "Plot the training error as a function of the epoch"
      ]
    },
    {
      "cell_type": "code",
      "metadata": {
        "id": "aam3YN7VouD-",
        "colab_type": "code",
        "colab": {
          "base_uri": "https://localhost:8080/",
          "height": 279
        },
        "outputId": "19ae08b3-3926-40ce-b857-470eabaea430"
      },
      "source": [
        "fig, ax = plt.subplots()\n",
        "plt.plot(range(Niter),saveLoss,'b-',label='Training error')\n",
        "plt.xlabel('Epoch')\n",
        "plt.ylabel('MSE')\n",
        "ax.legend()\n",
        "plt.show()"
      ],
      "execution_count": 6,
      "outputs": [
        {
          "output_type": "display_data",
          "data": {
            "image/png": "[encoded data removed]",
            "text/plain": [
              "<Figure size 432x288 with 1 Axes>"
            ]
          },
          "metadata": {
            "tags": []
          }
        }
      ]
    },
    {
      "cell_type": "markdown",
      "metadata": {
        "id": "FnjcbWrJ0CV3",
        "colab_type": "text"
      },
      "source": [
        "### Question: plot on the same graph the quartic function and its approximation"
      ]
    },
    {
      "cell_type": "code",
      "metadata": {
        "scrolled": true,
        "id": "AnvnNn-touEB",
        "colab_type": "code",
        "colab": {
          "base_uri": "https://localhost:8080/",
          "height": 279
        },
        "outputId": "d614c578-effb-42bb-dfd4-d338fb2e46b2"
      },
      "source": [
        "y_pred = model(x)\n",
        "fig, ax = plt.subplots()\n",
        "plt.plot(x.numpy(), y.numpy(),'r-',label='Quartic function')\n",
        "plt.plot(x.numpy(), y_pred.detach().numpy(),'bo-',label='Deep approximation')\n",
        "plt.xlabel('$x$')\n",
        "plt.ylabel('$f(x)$')\n",
        "ax.legend()\n",
        "plt.show()"
      ],
      "execution_count": 7,
      "outputs": [
        {
          "output_type": "display_data",
          "data": {
            "image/png": "[encoded data removed]",
            "text/plain": [
              "<Figure size 432x288 with 1 Axes>"
            ]
          },
          "metadata": {
            "tags": []
          }
        }
      ]
    },
    {
      "cell_type": "markdown",
      "metadata": {
        "id": "_MpXhTY1rwGE",
        "colab_type": "text"
      },
      "source": [
        "How many parameters?"
      ]
    },
    {
      "cell_type": "code",
      "metadata": {
        "id": "OhpZsJxeouD1",
        "colab_type": "code",
        "colab": {}
      },
      "source": [
        "# Function to count the number of parameters\n",
        "def count_parameters(model):\n",
        "    return sum(p.numel() for p in model.parameters() if p.requires_grad)\n"
      ],
      "execution_count": 0,
      "outputs": []
    },
    {
      "cell_type": "code",
      "metadata": {
        "id": "xsEJhkeUr107",
        "colab_type": "code",
        "colab": {
          "base_uri": "https://localhost:8080/",
          "height": 221
        },
        "outputId": "dfd3fa60-1e48-4d77-85a8-a512a1823054"
      },
      "source": [
        "print(model.parameters)\n",
        "print(\"\\nTotal number of parameters {}\\n\".format(count_parameters(model)))"
      ],
      "execution_count": 9,
      "outputs": [
        {
          "output_type": "stream",
          "text": [
            "<bound method Module.parameters of Sequential(\n",
            "  (0): Linear(in_features=1, out_features=40, bias=True)\n",
            "  (1): ReLU()\n",
            "  (2): Linear(in_features=40, out_features=20, bias=True)\n",
            "  (3): ReLU()\n",
            "  (4): Linear(in_features=20, out_features=20, bias=True)\n",
            "  (5): ReLU()\n",
            "  (6): Linear(in_features=20, out_features=1, bias=True)\n",
            ")>\n",
            "\n",
            "Total number of parameters 1341\n",
            "\n"
          ],
          "name": "stdout"
        }
      ]
    },
    {
      "cell_type": "markdown",
      "metadata": {
        "id": "uRKKUiGMMAGL",
        "colab_type": "text"
      },
      "source": [
        "Print all the parameters (just for seeing them)"
      ]
    },
    {
      "cell_type": "code",
      "metadata": {
        "id": "hstPktpFLuYl",
        "colab_type": "code",
        "colab": {
          "base_uri": "https://localhost:8080/",
          "height": 1000
        },
        "outputId": "9ef6fccc-a7d8-46fd-b536-3da3d9348217"
      },
      "source": [
        "for parameter in model.parameters():\n",
        "    print(parameter)"
      ],
      "execution_count": 10,
      "outputs": [
        {
          "output_type": "stream",
          "text": [
            "Parameter containing:\n",
            "tensor([[ 1.6777],\n",
            "        [ 0.2922],\n",
            "        [ 0.0584],\n",
            "        [-0.7530],\n",
            "        [ 0.3562],\n",
            "        [ 1.2374],\n",
            "        [-0.5456],\n",
            "        [-0.8156],\n",
            "        [-0.7492],\n",
            "        [ 1.5213],\n",
            "        [ 0.2327],\n",
            "        [ 0.4046],\n",
            "        [-0.0251],\n",
            "        [-0.1937],\n",
            "        [ 0.3173],\n",
            "        [ 1.3848],\n",
            "        [ 0.4306],\n",
            "        [ 1.0297],\n",
            "        [ 0.4122],\n",
            "        [ 0.5574],\n",
            "        [-0.0622],\n",
            "        [-0.2924],\n",
            "        [-0.2832],\n",
            "        [-0.6065],\n",
            "        [-0.6760],\n",
            "        [-0.3892],\n",
            "        [ 0.1372],\n",
            "        [ 0.0069],\n",
            "        [ 1.3397],\n",
            "        [-0.3696],\n",
            "        [ 0.4114],\n",
            "        [ 0.2620],\n",
            "        [ 0.3055],\n",
            "        [ 0.7568],\n",
            "        [ 0.2138],\n",
            "        [ 1.3959],\n",
            "        [ 0.2140],\n",
            "        [-0.1851],\n",
            "        [ 0.4148],\n",
            "        [ 1.1822]], requires_grad=True)\n",
            "Parameter containing:\n",
            "tensor([ 0.5241,  1.7991, -0.3265, -1.8481,  1.3032, -1.6226, -2.3152, -1.5423,\n",
            "        -0.7625,  0.4980,  1.5373,  1.4793,  1.0932,  0.6373,  1.9489, -1.3366,\n",
            "         1.3765, -1.3566,  1.3987,  1.9797, -0.3880, -1.7317,  0.8496, -2.7463,\n",
            "        -1.3635,  1.0988,  1.0102, -0.9687, -1.3259, -0.8001,  1.2801,  0.9134,\n",
            "         2.0059,  1.3675,  1.2126, -1.5448,  1.2370,  1.7298,  1.3807,  1.2092],\n",
            "       requires_grad=True)\n",
            "Parameter containing:\n",
            "tensor([[-3.2531e-02, -1.2983e-01,  8.4887e-02,  1.2469e-01, -7.1385e-02,\n",
            "         -4.5709e-02,  1.4594e-01, -1.5254e-01,  9.1360e-02, -1.3708e-01,\n",
            "         -1.5505e-01, -1.0575e-01, -6.9281e-02, -1.4207e-01, -1.0008e-01,\n",
            "          3.0690e-02,  6.0385e-02, -4.0055e-02, -9.5993e-02, -1.2060e-01,\n",
            "         -1.0986e-01, -6.9225e-02,  4.5136e-02, -9.5825e-02, -1.1268e-01,\n",
            "         -2.2414e-02,  7.0446e-02,  8.7208e-02,  3.4832e-02,  5.6566e-03,\n",
            "         -5.4868e-02,  1.0185e-02, -1.3153e-01,  1.5079e-02,  5.4971e-02,\n",
            "         -1.5042e-01,  1.0171e-03,  4.4969e-02,  9.0062e-02,  1.0148e-01],\n",
            "        [ 5.4073e-02,  6.0117e-02,  1.1278e-01,  7.8563e-02, -3.4206e-02,\n",
            "         -2.3995e-02, -1.3716e-01, -9.8474e-02, -1.2336e-01, -7.9508e-03,\n",
            "         -1.0104e-02,  4.6251e-02, -1.1604e-01,  3.9454e-02,  1.0303e-01,\n",
            "         -1.2988e-01,  4.2030e-02,  5.9282e-02, -3.5668e-02, -1.1962e-01,\n",
            "          2.7309e-02,  9.7672e-03,  1.1463e-01,  1.5588e-01,  8.2829e-02,\n",
            "         -9.9875e-02, -1.4434e-02, -4.2359e-02, -6.3334e-02, -1.4149e-01,\n",
            "          4.7659e-02,  3.4539e-02, -1.2008e-01, -1.5216e-01, -9.0890e-02,\n",
            "         -9.1294e-02,  1.3368e-01,  6.2537e-02, -2.3398e-02, -1.5235e-01],\n",
            "        [ 5.9826e-03,  1.6479e+00, -1.4094e-01, -1.1865e+00, -1.6250e+00,\n",
            "         -4.4676e-02, -3.8344e+00, -6.4956e-01, -2.7947e-01, -2.8987e-01,\n",
            "          1.7063e+00, -1.6206e+00,  7.2733e-01,  3.6550e-01,  1.6442e+00,\n",
            "         -2.5250e-02, -1.4102e+00, -1.2530e-01, -1.2963e+00, -1.5585e+00,\n",
            "         -7.9485e-02, -3.9393e+00,  4.5450e-01, -6.7346e+00, -6.0858e-01,\n",
            "          5.4340e-01,  6.2898e-01,  9.1921e-02,  4.0351e-02, -2.6540e-01,\n",
            "         -1.3955e+00, -1.4949e+00,  1.8714e+00, -1.0878e+00,  1.5722e+00,\n",
            "         -6.0923e-02,  1.5760e+00,  7.3815e-01, -1.5055e+00, -4.2424e-01],\n",
            "        [ 5.8619e-02,  8.9022e-02,  5.7287e-02, -6.6216e-02, -1.2842e-01,\n",
            "          5.7339e-02,  3.4795e-02,  5.5435e-02, -1.4664e-01, -9.3621e-02,\n",
            "          7.9701e-02, -4.1838e-02, -1.1833e-01,  3.2538e-02, -1.2818e-01,\n",
            "         -1.9415e-01, -1.7837e-01,  6.9895e-02, -3.8650e-02,  6.0128e-02,\n",
            "         -8.3184e-02,  1.0357e-02,  3.9719e-02,  8.4111e-02,  2.2099e-02,\n",
            "         -7.9033e-02, -5.9867e-02, -5.1093e-04, -9.1598e-02,  8.1428e-03,\n",
            "          4.5791e-02, -1.1402e-01, -1.9565e-01,  3.4592e-02, -2.0516e-01,\n",
            "         -1.3490e-02, -2.5621e-02, -1.1282e-01, -1.6719e-01, -1.0362e-01],\n",
            "        [-1.3909e-01,  6.3856e-02,  7.4659e-02, -6.6360e-02,  6.8987e-02,\n",
            "         -1.0982e-01,  2.9786e-02, -1.2142e-02,  1.0259e-02, -1.7633e-02,\n",
            "         -5.8983e-02, -8.0687e-03, -1.2205e-01, -1.4559e-01, -1.4482e-02,\n",
            "         -1.5524e-02,  5.0570e-02, -1.5572e-02, -1.7681e-01, -3.9949e-02,\n",
            "         -1.0480e-01, -4.6660e-02, -2.1682e-01, -7.1014e-03, -1.1513e-01,\n",
            "          5.6033e-02,  3.6806e-02,  5.1150e-02, -1.3881e-01,  7.2850e-02,\n",
            "          1.1331e-02,  1.5475e-02,  1.0047e-03,  7.9545e-02, -7.3402e-02,\n",
            "         -1.5902e-01, -1.1648e-01, -7.0959e-02, -2.0358e-01, -1.0348e-01],\n",
            "        [ 7.8915e-01,  1.0656e+00, -1.4630e-01, -4.6094e-01, -8.2226e-01,\n",
            "          8.3347e-02, -9.4492e-01, -2.2006e-01, -3.0603e-01, -1.5235e+00,\n",
            "          8.0580e-01, -8.3333e-01,  3.5075e-01, -6.2396e-02,  1.0596e+00,\n",
            "          7.0622e-02, -7.1319e-01, -8.9158e-02, -5.5985e-01, -7.0647e-01,\n",
            "         -2.8946e-02, -1.3089e+00,  9.6279e-02, -6.4798e-01, -2.4414e-01,\n",
            "          2.1868e-01,  2.0045e-01,  1.5503e-01,  1.4669e-01, -6.5664e-02,\n",
            "         -8.9387e-01, -8.8474e-01,  9.9279e-01, -4.7317e-01,  6.0968e-01,\n",
            "         -4.4406e-02,  7.1154e-01,  2.9715e-01, -7.2795e-01, -1.1160e+00],\n",
            "        [ 5.6694e-01, -6.2016e-02, -2.5894e-02, -1.2408e-01,  2.1387e-01,\n",
            "          2.3344e-01, -1.1055e-01,  2.8302e-01, -3.7479e-01,  6.2204e-01,\n",
            "         -2.5903e-02,  9.9469e-02, -7.4354e-01, -1.6082e+00,  5.8252e-03,\n",
            "          5.0339e-01,  1.0942e-01,  2.4155e-01,  1.8868e-02,  2.6952e-01,\n",
            "         -7.9117e-01,  6.3378e-02, -1.7661e+00, -1.5022e-01, -3.3951e-02,\n",
            "         -2.0640e+00, -4.2008e-01,  7.4912e-02,  4.8755e-01, -3.4305e-01,\n",
            "          4.1354e-01,  3.1032e-01,  5.1540e-02,  5.9767e-01, -1.5419e-01,\n",
            "          3.1824e-01, -2.1763e-01, -5.3245e-01,  4.7931e-02,  6.3431e-01],\n",
            "        [-8.5566e-01,  8.4302e-01, -1.3538e-01, -4.6736e-01, -3.2561e-01,\n",
            "         -1.5718e-01, -1.0601e+00, -2.4635e-01, -2.7899e-01, -8.0523e-01,\n",
            "          7.1370e-01, -4.1308e-01,  2.6035e-01,  7.3469e-02,  9.3296e-01,\n",
            "          8.4652e-02, -3.8913e-01, -1.1060e-01, -3.5737e-01, -4.9147e-01,\n",
            "         -1.9339e-01, -1.3375e+00,  2.2913e-01, -4.0034e-01, -2.3733e-01,\n",
            "          2.2097e-01,  2.2229e-01,  8.0304e-02, -1.6523e-01, -1.6672e-01,\n",
            "         -5.1599e-01, -5.4149e-01,  9.0448e-01, -4.3352e-01,  6.7005e-01,\n",
            "         -1.3890e-01,  6.1806e-01,  3.2796e-01, -4.3413e-01, -4.5261e-01],\n",
            "        [-1.2090e+00,  1.1905e+00, -1.0415e-01, -7.3444e-01, -4.6414e-01,\n",
            "         -5.1155e-02, -1.6242e+00, -3.7113e-01, -3.4822e-01, -9.8619e-01,\n",
            "          9.4220e-01, -5.1628e-01,  3.7272e-01,  1.7680e-01,  1.2826e+00,\n",
            "         -1.2055e-01, -5.7863e-01, -6.4874e-03, -2.1430e-01, -6.1876e-01,\n",
            "         -7.8338e-02, -1.2510e+00,  7.3116e-02, -1.8565e+00, -2.4742e-01,\n",
            "          1.9206e-01,  2.6416e-01,  1.1924e-01, -9.0596e-02, -3.3311e-01,\n",
            "         -6.2398e-01, -6.9171e-01,  1.0262e+00, -5.0368e-01,  7.6138e-01,\n",
            "         -1.2716e-01,  7.6142e-01,  3.3916e-01, -6.3283e-01, -8.4174e-01],\n",
            "        [-1.2057e-01, -7.5679e-02, -1.4636e-01, -6.6305e-03,  1.3826e-01,\n",
            "          9.7276e-02,  9.2569e-03, -5.4134e-02, -2.6818e-02, -1.0254e-01,\n",
            "         -8.6190e-02, -1.5522e-01,  1.2412e-03, -8.7650e-02, -1.1970e-01,\n",
            "         -1.2296e-01,  1.4432e-01, -3.5529e-02,  2.0255e-01,  5.9857e-02,\n",
            "         -7.8042e-03, -1.7248e-02, -1.4868e-01, -1.2276e-01, -1.5491e-01,\n",
            "          7.5016e-02, -2.1252e-01,  1.1595e-01, -8.2961e-02,  3.9383e-02,\n",
            "          2.1590e-02,  7.1886e-02, -7.2162e-02, -4.5796e-02,  6.5681e-02,\n",
            "         -5.7297e-02, -2.0060e-02, -2.6771e-02, -1.1212e-01,  9.5546e-02],\n",
            "        [-9.2348e-01,  9.1440e-01, -1.5073e-01, -4.6923e-01, -1.1147e+00,\n",
            "         -5.7545e-04, -1.6451e+00, -3.4364e-01, -3.4091e-01, -8.2132e-01,\n",
            "          8.2719e-01, -1.1366e+00,  2.8844e-01,  6.1267e-02,  9.5951e-01,\n",
            "          5.4584e-02, -1.1589e+00, -1.2223e-01, -1.0343e+00, -9.2846e-01,\n",
            "         -3.2398e-02, -1.1507e+00,  1.4042e-01, -1.7361e+00, -3.4645e-01,\n",
            "          1.8068e-01,  3.5572e-01,  1.3478e-01, -1.1352e-02, -6.1949e-02,\n",
            "         -1.1653e+00, -1.0428e+00,  7.5479e-01, -7.5705e-01,  5.6509e-01,\n",
            "         -1.8644e-02,  5.9803e-01,  3.6883e-01, -1.0531e+00, -2.5250e+00],\n",
            "        [-8.9813e-02, -6.6618e-02,  4.8514e-02,  6.9191e-02, -4.2151e-02,\n",
            "         -1.2198e-01, -1.4530e-01, -1.1554e-01,  6.7054e-03, -1.0621e-01,\n",
            "          8.2917e-02, -4.1520e-02, -3.8198e-02, -2.3377e-01,  7.7779e-02,\n",
            "         -2.9332e-02,  1.6425e-01, -7.6792e-02, -1.4133e-01,  1.1941e-01,\n",
            "         -1.9445e-01, -1.7419e-01, -5.7891e-02,  7.5974e-02, -3.5431e-02,\n",
            "         -1.1102e-01,  2.4411e-02, -6.9558e-02, -1.9164e-01, -7.9037e-02,\n",
            "          6.7065e-02,  1.3545e-02, -9.6823e-02, -6.7748e-02, -1.6426e-01,\n",
            "         -1.8573e-01,  8.0957e-02, -1.0404e-01,  9.6832e-03, -1.4948e-01],\n",
            "        [-1.5083e-01, -1.4943e-01,  8.4257e-02, -9.7138e-02,  9.2455e-02,\n",
            "          3.2459e-02, -1.5183e-01,  2.3137e-02,  7.0276e-02,  1.1940e-01,\n",
            "          1.5586e-01,  8.0067e-02, -8.1623e-02, -1.2455e-01, -6.9030e-02,\n",
            "         -1.1941e-01, -1.0748e-01,  1.1790e-01,  5.7866e-02, -4.9032e-02,\n",
            "          5.7814e-02,  3.3863e-02, -1.3299e-01, -3.4405e-02, -1.4344e-02,\n",
            "         -1.4952e-01, -1.3674e-01, -1.3754e-01,  5.8327e-02,  1.3072e-01,\n",
            "         -1.5150e-01, -9.2628e-02, -1.5679e-01, -9.4206e-02, -1.2550e-01,\n",
            "         -7.8433e-02, -4.5829e-03,  1.3207e-01, -2.8556e-02, -1.9154e-02],\n",
            "        [-5.3069e-01,  8.9759e-01, -1.4576e-01, -4.3327e-01, -1.3667e+00,\n",
            "          1.1437e-02, -1.3878e+00, -2.7742e-01, -1.8871e-01, -8.3947e-01,\n",
            "          5.3876e-01, -1.2340e+00,  2.2810e-02,  4.6620e-02,  7.9609e-01,\n",
            "         -1.0900e-01, -1.4283e+00,  7.8328e-02, -1.1039e+00, -1.4390e+00,\n",
            "          1.1488e-01, -1.1103e+00,  5.5622e-02, -1.4283e+00, -3.2222e-01,\n",
            "          2.2464e-01,  1.6142e-01,  1.4497e-01, -7.9127e-02,  8.5427e-03,\n",
            "         -1.4097e+00, -1.3764e+00,  8.7575e-01, -1.4576e+00,  5.0095e-01,\n",
            "         -1.4506e-01,  6.9859e-01,  3.1727e-01, -1.2044e+00, -6.2329e-01],\n",
            "        [-1.5673e-01, -1.4744e-01, -3.7575e-02, -6.7327e-01, -2.1249e-01,\n",
            "          1.2951e+00, -5.9336e-01, -5.9194e-01, -3.8239e-01, -1.9103e-01,\n",
            "         -5.1253e-01, -4.6151e-01,  4.9313e-01,  5.2906e-01, -3.8524e-01,\n",
            "          9.3432e-01, -1.5456e-01,  1.2924e+00, -1.4640e-01, -2.2385e-01,\n",
            "          1.6300e-01, -4.2145e-01,  6.4618e-01, -4.5738e-01, -5.7970e-01,\n",
            "          6.6804e-01, -3.6311e-02,  3.5966e-02,  1.1303e+00, -2.7413e-01,\n",
            "         -7.4459e-02, -3.2706e-01, -3.6450e-01, -4.3673e-01, -3.2746e-01,\n",
            "          1.1522e+00, -2.7578e-01, -1.2948e-01, -2.4482e-01, -3.1786e-01],\n",
            "        [-8.4318e-01,  1.0190e+00, -1.5400e-01, -5.4802e-01, -6.1831e-01,\n",
            "          1.5392e-01, -1.9312e+00, -4.9726e-01, -1.1823e-01, -1.0359e+00,\n",
            "          7.2976e-01, -6.0495e-01,  1.9319e-01,  2.0703e-01,  1.2027e+00,\n",
            "         -1.0838e-01, -9.5764e-01,  2.1708e-02, -7.3918e-01, -7.4950e-01,\n",
            "         -6.8247e-02, -1.3779e+00,  2.5092e-01, -1.7004e+00, -3.1208e-01,\n",
            "          1.4901e-01,  3.3041e-01, -1.5457e-01, -3.3783e-02, -1.5548e-01,\n",
            "         -9.1188e-01, -7.2885e-01,  9.7413e-01, -1.1383e+00,  7.5614e-01,\n",
            "          1.3612e-01,  5.6715e-01,  2.4117e-01, -7.2882e-01, -2.2805e+00],\n",
            "        [-4.6793e-01,  7.9412e-01, -8.2938e-02, -3.5467e-01, -9.3705e-01,\n",
            "          1.5036e-01, -1.5950e+00, -2.0640e-01, -1.8321e-01, -6.6524e-01,\n",
            "          6.1364e-01, -7.6793e-01,  7.7700e-02,  1.3439e-01,  9.7163e-01,\n",
            "         -1.1439e-01, -8.8402e-01, -8.7770e-02, -9.0308e-01, -9.3538e-01,\n",
            "          2.6900e-02, -1.3837e+00,  7.2286e-02, -1.4876e+00, -9.7726e-02,\n",
            "          2.8619e-02,  1.4807e-01, -5.5475e-02, -4.7570e-02, -1.3631e-01,\n",
            "         -1.1270e+00, -7.3530e-01,  8.2357e-01, -1.2783e+00,  6.4668e-01,\n",
            "          1.4021e-01,  4.2237e-01,  2.3266e-01, -9.4769e-01, -7.0131e-01],\n",
            "        [-3.2940e-01,  8.0086e-01, -1.4037e-01, -2.6659e-01, -8.0861e-01,\n",
            "         -1.8084e-01, -9.0705e-01, -3.5362e-01, -1.4964e-01, -6.7471e-01,\n",
            "          7.0870e-01, -9.4711e-01,  2.3268e-01,  1.5615e-01,  6.8037e-01,\n",
            "         -1.4367e-01, -8.3475e-01, -1.0202e-01, -9.3592e-01, -1.0905e+00,\n",
            "          3.4647e-02, -1.3517e+00,  1.7833e-01, -1.2814e+00, -2.1337e-01,\n",
            "          2.2571e-01,  1.8444e-01,  1.8419e-02, -1.4592e-01, -9.8075e-02,\n",
            "         -8.9974e-01, -9.8439e-01,  8.8738e-01, -1.2116e+00,  3.9894e-01,\n",
            "         -1.1521e-01,  6.0117e-01,  2.8555e-01, -8.7485e-01, -1.4209e+00],\n",
            "        [-1.0006e+00,  1.0774e+00,  1.0593e-01, -6.4291e-01, -7.7359e-01,\n",
            "          6.1029e-02, -1.6086e+00, -3.7373e-01, -2.3468e-01, -6.4570e-01,\n",
            "          8.5031e-01, -6.4059e-01,  4.1896e-01, -9.2694e-02,  1.1152e+00,\n",
            "         -4.4247e-02, -6.0561e-01,  1.4964e-01, -3.3392e-01, -7.3270e-01,\n",
            "         -1.3819e-02, -1.2935e+00,  1.4907e-01, -1.9123e+00, -3.3915e-01,\n",
            "          2.0675e-01,  2.5178e-01, -1.5158e-01, -1.2915e-01, -2.4160e-01,\n",
            "         -5.6569e-01, -7.9780e-01,  1.0524e+00, -2.8736e-01,  7.1509e-01,\n",
            "          1.0148e-01,  8.7695e-01,  3.9389e-01, -6.6958e-01, -8.4115e-01],\n",
            "        [ 9.0964e-02, -3.8042e-01,  4.1251e-02, -7.1873e-01, -1.3568e-01,\n",
            "          1.5038e+00, -4.3399e-01, -5.2240e-01, -5.5701e-01,  1.7166e-01,\n",
            "         -7.5835e-01,  5.3210e-03, -1.1158e-01,  8.6265e-01, -3.8180e-01,\n",
            "          1.2074e+00, -3.7608e-02,  1.4164e+00, -2.2177e-01, -7.4062e-02,\n",
            "          1.3340e-01, -1.8507e-01,  1.0605e+00, -5.0319e-01, -6.1855e-01,\n",
            "          1.2174e+00, -1.5049e-01,  3.4256e-02,  1.0484e+00, -4.6112e-01,\n",
            "          1.1381e-02, -3.8057e-01, -3.0390e-01,  1.0282e-01, -4.4500e-01,\n",
            "          1.2402e+00, -5.1078e-01, -2.0309e-01, -1.7259e-01,  1.5573e-01]],\n",
            "       requires_grad=True)\n",
            "Parameter containing:\n",
            "tensor([ 0.0347, -0.0966,  1.3265, -0.0364, -0.1277,  0.7656, -0.4492,  0.6217,\n",
            "         0.9895, -0.0603,  0.7881,  0.0493,  0.1141,  0.4797, -0.2129,  0.7000,\n",
            "         0.5287,  0.5320,  0.7559, -0.3772], requires_grad=True)\n",
            "Parameter containing:\n",
            "tensor([[-1.5364e-01, -1.3789e-02,  4.5308e+00, -1.3628e-01,  9.8490e-02,\n",
            "         -3.0251e+00, -4.5841e-02, -2.9628e+00, -2.9306e+00,  5.9238e-02,\n",
            "         -3.1147e+00,  1.8055e-01, -1.6910e-01, -2.8764e+00, -2.8715e-01,\n",
            "         -1.8660e+00, -2.9477e+00, -3.1917e+00, -2.4661e+00, -5.5067e-01],\n",
            "        [-1.0605e-01,  7.1593e-03,  2.7828e+00,  1.9987e-01, -1.4079e-01,\n",
            "          3.0868e-01, -1.0110e-01, -1.2516e-01, -1.4490e+00, -2.2301e-01,\n",
            "         -1.3564e+00,  1.1226e-01,  2.1518e-01, -6.1153e-01,  2.2463e-01,\n",
            "         -1.7923e+00, -8.1836e-01,  2.8088e-01, -1.0907e+00,  5.3534e-01],\n",
            "        [ 9.1514e-03, -2.1850e-01,  1.8096e+00, -1.2381e-01, -1.4022e-01,\n",
            "          7.5457e-02, -3.2052e-01, -3.2544e-01, -1.0001e+00,  7.1983e-02,\n",
            "         -1.2834e+00,  2.8744e-01, -1.2843e-01, -1.3160e+00,  4.4847e-01,\n",
            "         -1.5321e+00, -1.4715e+00,  1.7868e-01, -6.7816e-01,  9.5659e-01],\n",
            "        [-2.0775e-01, -9.8449e-02,  4.2767e+00, -1.9670e-01, -2.0594e-01,\n",
            "          2.0262e-01, -2.8846e-02, -1.9086e-01, -2.1341e+00,  2.0348e-01,\n",
            "         -1.8152e+00, -1.2261e-01,  2.1688e-01, -1.6024e+00, -1.0228e-01,\n",
            "         -3.2509e+00, -1.4538e+00, -1.3087e-01, -2.1785e+00, -4.4306e-01],\n",
            "        [-1.3060e-01,  7.4055e-02, -9.3671e-01,  4.2393e-02, -1.1233e-01,\n",
            "          4.5473e-01,  5.8552e-01,  4.9594e-01,  5.4608e-01,  2.6692e-01,\n",
            "          9.1378e-01, -6.9028e-02, -1.0698e-01,  9.8445e-01,  8.0748e-02,\n",
            "          6.3853e-01,  8.0259e-01,  3.2107e-01,  7.2439e-01,  1.3192e-01],\n",
            "        [-5.6585e-03,  6.6910e-02, -2.1030e-02, -4.6622e-02,  1.5179e-01,\n",
            "          4.0879e-01,  9.2766e-02,  7.9118e-01,  4.8967e-01, -2.0241e-01,\n",
            "         -2.6853e-02, -1.9735e-01, -1.8183e-01, -1.5971e-01,  6.1229e-01,\n",
            "         -1.3394e-02, -4.6288e-02,  2.0330e-01,  1.7218e-02,  4.9817e-01],\n",
            "        [ 7.9512e-02,  8.3639e-02,  1.5768e+00,  1.0403e-01, -5.3557e-02,\n",
            "         -1.1086e+00,  8.9079e-02, -6.8120e-01, -5.8096e-01, -4.6601e-02,\n",
            "         -7.6599e-01, -2.3077e-01,  1.5942e-01, -7.6776e-01, -8.2520e-02,\n",
            "         -1.1724e+00, -1.2700e+00, -1.2202e+00, -8.2676e-01,  4.5211e-01],\n",
            "        [-1.7052e-01, -1.5613e-01, -9.9943e-02, -2.0891e-01,  3.5178e-03,\n",
            "         -3.1358e-01, -1.7709e-01, -1.1424e-01,  9.2161e-02,  1.5397e-02,\n",
            "         -2.5844e-01,  8.4826e-02,  1.5390e-01, -8.0158e-02, -1.8012e-01,\n",
            "         -1.5478e-01, -3.1393e-01, -2.1876e-01,  1.3520e-01, -5.0838e-03],\n",
            "        [ 1.9907e-01, -2.1515e-01,  1.6287e+00,  5.8823e-02, -9.2534e-02,\n",
            "          3.2892e-02, -3.7021e-01, -9.7904e-02, -1.0269e+00,  6.4343e-02,\n",
            "         -9.6387e-01, -1.0158e-01, -1.5049e-01, -7.3105e-01,  1.4025e-01,\n",
            "         -1.0610e+00, -9.3433e-01,  7.1447e-01, -2.7621e-01,  8.5355e-01],\n",
            "        [-1.0231e-01, -5.9746e-02, -5.5303e-02, -1.1567e-01,  4.6007e-02,\n",
            "         -1.0390e-01, -1.2251e-01,  3.9788e-02, -2.5960e-02, -2.2843e-01,\n",
            "          3.6899e-02, -6.2733e-02,  2.0016e-01, -2.4208e-01, -1.7094e-01,\n",
            "         -7.8479e-02, -5.3251e-02, -1.9698e-04, -2.3017e-01, -2.1889e-01],\n",
            "        [-1.5379e-01,  4.8128e-02, -1.2921e-01,  1.2234e-01,  1.4093e-01,\n",
            "          5.4601e-01,  6.0141e-01,  3.8105e-01,  7.6585e-01, -1.0162e-01,\n",
            "          8.2565e-01,  1.7877e-01, -6.9402e-02,  8.9233e-01, -2.9751e-01,\n",
            "          7.4708e-01,  8.0386e-01,  4.7424e-01,  5.1912e-01, -6.3785e-02],\n",
            "        [ 6.7704e-02,  1.5008e-01, -2.4584e-01,  6.1640e-02,  1.4929e-01,\n",
            "         -8.3683e-02,  4.0222e-01,  3.2617e-01, -1.9994e-01, -8.2674e-03,\n",
            "         -4.5682e-03, -2.6965e-01, -1.2938e-01,  1.0234e-01,  4.7039e-01,\n",
            "          2.8420e-02, -4.8254e-02,  7.6609e-02, -2.8092e-01,  2.6783e-01],\n",
            "        [ 1.5624e-02,  3.0789e-02, -2.1669e-01, -2.1149e-02, -4.3008e-02,\n",
            "          3.2385e-01, -2.7233e-01,  5.5116e-01,  5.4498e-01, -1.3364e-01,\n",
            "         -1.0699e-01,  1.6874e-01, -1.4772e-01, -2.6233e-01,  6.4152e-01,\n",
            "          3.1332e-01, -1.2222e-01,  5.8670e-01,  4.7725e-01,  6.6403e-01],\n",
            "        [-8.0120e-02, -1.8427e-01, -8.7211e-01, -1.3413e-01,  1.0766e-01,\n",
            "          5.9390e-01,  7.3618e-01,  4.8065e-01,  8.3967e-01,  9.5759e-02,\n",
            "          8.7685e-01, -1.3951e-01, -1.9041e-01,  6.5653e-01, -9.4096e-02,\n",
            "          8.8633e-01,  8.1553e-01,  4.8403e-01,  4.2598e-01, -2.6927e-01],\n",
            "        [-5.6701e-02,  1.6142e-01, -7.6411e-01, -1.0409e-01, -6.0232e-02,\n",
            "          4.5562e-01,  5.8835e-01,  2.5053e-01,  8.5723e-01, -8.1334e-02,\n",
            "          7.4438e-01, -9.1694e-02,  1.0860e-01,  7.9332e-01, -1.1383e-01,\n",
            "          7.1826e-01,  6.1016e-01,  3.5634e-01,  5.7666e-01,  2.3995e-01],\n",
            "        [ 3.1233e-02,  1.0355e-01,  2.1690e+00,  4.1407e-02,  9.3632e-02,\n",
            "         -3.9905e-01, -3.2352e-01, -1.7271e-02, -3.6891e-01, -2.1334e-01,\n",
            "         -1.0661e+00,  1.2239e-01, -1.0005e-01, -1.1844e+00,  2.9885e-01,\n",
            "         -1.1167e+00, -8.7940e-01, -2.5585e-01, -5.7198e-01,  7.2532e-01],\n",
            "        [ 5.4916e-02, -2.0560e-01, -2.0624e-01,  1.8322e-01,  5.3533e-02,\n",
            "          4.1358e-02, -1.1856e-01, -5.9071e-02,  1.3640e-01,  4.3522e-02,\n",
            "         -6.0120e-02, -1.5033e-01, -1.4768e-02, -2.1210e-01, -1.7536e-01,\n",
            "         -1.6715e-01,  1.8765e-01, -5.1216e-02, -1.7068e-01, -1.1214e-01],\n",
            "        [ 3.0208e-02,  1.5325e-01, -1.4715e-01, -1.5772e-01,  9.0444e-02,\n",
            "          3.5874e-01, -3.3756e-01,  3.1740e-01,  6.3138e-01, -1.4798e-01,\n",
            "          8.7545e-01,  2.1551e-01,  8.7524e-03,  7.6132e-01, -6.5852e-01,\n",
            "          9.3027e-01,  8.6997e-01,  2.7264e-01,  5.7749e-01, -4.1472e-01],\n",
            "        [-1.0511e-01, -1.5313e-01, -1.5810e-01,  2.3053e-01,  2.8091e-01,\n",
            "          3.8295e-01, -2.8879e-01,  5.9279e-01,  5.6077e-01,  6.2624e-02,\n",
            "          1.0372e+00,  2.3581e-02, -2.0065e-01,  9.5629e-01, -4.3512e-01,\n",
            "          7.3545e-01,  6.2232e-01,  1.2603e-01,  8.0481e-01, -5.7326e-01],\n",
            "        [ 1.3791e-01,  8.2085e-03, -1.7265e-02,  1.5703e-02,  1.4632e-01,\n",
            "          3.6111e-01,  6.0751e-02,  5.7861e-01,  4.6646e-01, -2.7620e-03,\n",
            "         -5.8854e-02, -1.5939e-01,  5.0426e-02, -2.4828e-01,  3.7945e-01,\n",
            "         -7.8711e-02, -1.0777e-01,  1.3467e-01,  6.9688e-02,  5.1875e-01]],\n",
            "       requires_grad=True)\n",
            "Parameter containing:\n",
            "tensor([-0.6485, -0.2843,  0.0290, -0.0216,  1.0123, -0.0954, -0.4215, -0.3419,\n",
            "        -0.0722, -0.1450, -0.4236, -1.9835,  0.0933,  0.8586,  0.6359,  0.6609,\n",
            "        -0.0834, -0.5437, -0.6014, -0.0575], requires_grad=True)\n",
            "Parameter containing:\n",
            "tensor([[ 7.8576,  6.3494,  4.2155, 11.1566, -0.9647,  0.7987,  3.6242, -0.0534,\n",
            "          4.6013, -0.0908, -0.5253,  1.0821,  1.1143, -0.8122, -0.8887,  3.6634,\n",
            "         -0.2105, -0.7013, -0.6128,  0.7159]], requires_grad=True)\n",
            "Parameter containing:\n",
            "tensor([-0.4027], requires_grad=True)\n"
          ],
          "name": "stdout"
        }
      ]
    },
    {
      "cell_type": "markdown",
      "metadata": {
        "id": "tbEXUwJZNgX9",
        "colab_type": "text"
      },
      "source": [
        "## Approximation with a shallow neural network"
      ]
    },
    {
      "cell_type": "markdown",
      "metadata": {
        "id": "iwoSChjz2fuE",
        "colab_type": "text"
      },
      "source": [
        "### Question: code a one-hidden layer neural network with approximatively the same number of parameters than the multilayer neural network. What is the \"best\" architecture?"
      ]
    },
    {
      "cell_type": "code",
      "metadata": {
        "id": "Qw_JwF-42set",
        "colab_type": "code",
        "colab": {
          "base_uri": "https://localhost:8080/",
          "height": 357
        },
        "outputId": "a153cdcf-4069-4edb-b68f-11d7327d7712"
      },
      "source": [
        "H1 = 5000 # number of hidden neurons\n",
        "\n",
        "Niter = 20*10**3\n",
        "\n",
        "import numpy as np\n",
        "saveLoss = np.zeros(Niter)\n",
        "\n",
        "# Use the nn package to define our model and loss function.\n",
        "model = torch.nn.Sequential(\n",
        "    torch.nn.Linear(D_in, H1),\n",
        "    torch.nn.ReLU(),\n",
        "    torch.nn.Linear(H1, D_out)\n",
        ")\n",
        "loss_fn = torch.nn.MSELoss(reduction='mean')\n",
        "\n",
        "learning_rate = 1e-2\n",
        "optimizer = torch.optim.Adam(model.parameters(), lr=learning_rate)\n",
        "for t in range(Niter):\n",
        "    # Forward pass: compute predicted y by passing x to the model.\n",
        "    y_pred = model(x)\n",
        "\n",
        "    # Compute and print loss.\n",
        "    loss = loss_fn(y_pred, y)\n",
        "    saveLoss[t] = loss.detach().numpy()\n",
        "    if t % 1000 == 999:\n",
        "        print(t, loss.item())\n",
        "\n",
        "    # Before the backward pass, use the optimizer object to zero all of the\n",
        "    # gradients for the variables it will update (which are the learnable\n",
        "    # weights of the model). This is because by default, gradients are\n",
        "    # accumulated in buffers( i.e, not overwritten) whenever .backward()\n",
        "    # is called. Checkout docs of torch.autograd.backward for more details.\n",
        "    optimizer.zero_grad()\n",
        "\n",
        "    # Backward pass: compute gradient of the loss with respect to model\n",
        "    # parameters\n",
        "    loss.backward()\n",
        "\n",
        "    # Calling the step function on an Optimizer makes an update to its\n",
        "    # parameters\n",
        "    optimizer.step()"
      ],
      "execution_count": 11,
      "outputs": [
        {
          "output_type": "stream",
          "text": [
            "999 96.6321792602539\n",
            "1999 96.12133026123047\n",
            "2999 95.78148651123047\n",
            "3999 63.74628829956055\n",
            "4999 48.1425895690918\n",
            "5999 43.08442687988281\n",
            "6999 35.33656311035156\n",
            "7999 30.11851692199707\n",
            "8999 26.221813201904297\n",
            "9999 23.773839950561523\n",
            "10999 21.97381019592285\n",
            "11999 21.313339233398438\n",
            "12999 35.50166320800781\n",
            "13999 18.135656356811523\n",
            "14999 16.78937530517578\n",
            "15999 15.970320701599121\n",
            "16999 23.048198699951172\n",
            "17999 14.651721954345703\n",
            "18999 15.026559829711914\n",
            "19999 13.597122192382812\n"
          ],
          "name": "stdout"
        }
      ]
    },
    {
      "cell_type": "code",
      "metadata": {
        "id": "fY4nUy-13H1e",
        "colab_type": "code",
        "colab": {
          "base_uri": "https://localhost:8080/",
          "height": 279
        },
        "outputId": "69b25627-1821-470d-ac7f-5a7959803f23"
      },
      "source": [
        "y_pred = model(x)\n",
        "fig, ax = plt.subplots()\n",
        "plt.plot(x.numpy(), y.numpy(),'r-',label='Quartic function')\n",
        "plt.plot(x.numpy(), y_pred.detach().numpy(),'bo-',label='Deep approximation')\n",
        "plt.xlabel('$x$')\n",
        "plt.ylabel('$f(x)$')\n",
        "ax.legend()\n",
        "plt.show()"
      ],
      "execution_count": 12,
      "outputs": [
        {
          "output_type": "display_data",
          "data": {
            "image/png": "[encoded data removed]",
            "text/plain": [
              "<Figure size 432x288 with 1 Axes>"
            ]
          },
          "metadata": {
            "tags": []
          }
        }
      ]
    },
    {
      "cell_type": "code",
      "metadata": {
        "id": "oaIZaCpV3Az9",
        "colab_type": "code",
        "colab": {
          "base_uri": "https://localhost:8080/",
          "height": 68
        },
        "outputId": "ef356c14-3c8a-46fe-904b-5f2310bd8cb4"
      },
      "source": [
        "print(\"\\nTotal number of parameters {}\\n\".format(count_parameters(model)))"
      ],
      "execution_count": 13,
      "outputs": [
        {
          "output_type": "stream",
          "text": [
            "\n",
            "Total number of parameters 15001\n",
            "\n"
          ],
          "name": "stdout"
        }
      ]
    }
  ]
}