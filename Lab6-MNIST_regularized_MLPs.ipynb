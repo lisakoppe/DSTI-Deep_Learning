{
  "nbformat": 4,
  "nbformat_minor": 0,
  "metadata": {
    "kernelspec": {
      "name": "python3",
      "display_name": "Python 3"
    },
    "language_info": {
      "codemirror_mode": {
        "name": "ipython",
        "version": 3
      },
      "file_extension": ".py",
      "mimetype": "text/x-python",
      "name": "python",
      "nbconvert_exporter": "python",
      "pygments_lexer": "ipython3",
      "version": "3.5.2"
    },
    "colab": {
      "name": "03-Lab6.ipynb",
      "provenance": [],
      "collapsed_sections": []
    },
    "accelerator": "GPU"
  },
  "cells": [
    {
      "cell_type": "markdown",
      "metadata": {
        "id": "QYZjzA-LQ3yq",
        "colab_type": "text"
      },
      "source": [
        "# MNIST handwritten digits classification with regularized MLPs\n",
        "\n",
        "In this notebook, we'll train a multi-layer perceptron model to classify MNIST digits using **PyTorch**.\n",
        "\n",
        "The neural network will be regularized with\n",
        "\n",
        "\n",
        "1.   Dropout\n",
        "2.   Batchnormalization\n",
        "\n",
        "\n",
        "\n"
      ]
    },
    {
      "cell_type": "markdown",
      "metadata": {
        "id": "uEtfy2Y5KrXS",
        "colab_type": "text"
      },
      "source": [
        "First, the needed imports. "
      ]
    },
    {
      "cell_type": "code",
      "metadata": {
        "id": "qrZvRCTBQ3yt",
        "colab_type": "code",
        "outputId": "fe4012c4-b1ad-4ed2-8ad3-957049acef7a",
        "colab": {
          "base_uri": "https://localhost:8080/",
          "height": 34
        }
      },
      "source": [
        "%matplotlib inline\n",
        "\n",
        "import torch\n",
        "import torch.nn as nn\n",
        "import torch.nn.functional as F\n",
        "from torchvision import datasets, transforms\n",
        "#import seaborn as sns\n",
        "#sns.set()\n",
        "\n",
        "import numpy as np\n",
        "import matplotlib.pyplot as plt\n",
        "\n",
        "if torch.cuda.is_available():\n",
        "    device = torch.device('cuda')\n",
        "else:\n",
        "    device = torch.device('cpu')\n",
        "    \n",
        "print('Using PyTorch version:', torch.__version__, ' Device:', device)"
      ],
      "execution_count": 1,
      "outputs": [
        {
          "output_type": "stream",
          "text": [
            "Using PyTorch version: 1.4.0  Device: cuda\n"
          ],
          "name": "stdout"
        }
      ]
    },
    {
      "cell_type": "markdown",
      "metadata": {
        "id": "Y0chwSkbQ3yx",
        "colab_type": "text"
      },
      "source": [
        "## Data\n",
        "\n",
        "Next we'll load the MNIST data.  First time we may have to download the data, which can take a while.\n",
        "\n",
        "Note that we are here using the MNIST test data for *validation*, instead of for testing the final model."
      ]
    },
    {
      "cell_type": "code",
      "metadata": {
        "id": "CyqByXDlQ3yy",
        "colab_type": "code",
        "colab": {}
      },
      "source": [
        "batch_size = 32\n",
        "\n",
        "train_dataset = datasets.MNIST('./data', \n",
        "                               train=True, \n",
        "                               download=True, \n",
        "                               transform=transforms.ToTensor())\n",
        "\n",
        "validation_dataset = datasets.MNIST('./data', \n",
        "                                    train=False, \n",
        "                                    transform=transforms.ToTensor())\n",
        "\n",
        "train_loader = torch.utils.data.DataLoader(dataset=train_dataset, \n",
        "                                           batch_size=batch_size, \n",
        "                                           shuffle=True)\n",
        "\n",
        "validation_loader = torch.utils.data.DataLoader(dataset=validation_dataset, \n",
        "                                                batch_size=batch_size, \n",
        "                                                shuffle=False)"
      ],
      "execution_count": 0,
      "outputs": []
    },
    {
      "cell_type": "markdown",
      "metadata": {
        "id": "R5RUIpKiQ3y1",
        "colab_type": "text"
      },
      "source": [
        "The train and test data are provided via data loaders that provide iterators over the datasets. The first element of training data (`X_train`) is a 4th-order tensor of size (`batch_size`, 1, 28, 28), i.e. it consists of a batch of images of size 1x28x28 pixels. `y_train` is a vector containing the correct classes (\"0\", \"1\", ..., \"9\") for each training digit."
      ]
    },
    {
      "cell_type": "code",
      "metadata": {
        "id": "rpWAQsC5Q3y2",
        "colab_type": "code",
        "outputId": "2bb1fed1-1ea0-4ec2-a0a8-ce3f0ea761ef",
        "colab": {
          "base_uri": "https://localhost:8080/",
          "height": 51
        }
      },
      "source": [
        "for (X_train, y_train) in train_loader:\n",
        "    print('X_train:', X_train.size(), 'type:', X_train.type())\n",
        "    print('y_train:', y_train.size(), 'type:', y_train.type())\n",
        "    break"
      ],
      "execution_count": 5,
      "outputs": [
        {
          "output_type": "stream",
          "text": [
            "X_train: torch.Size([32, 1, 28, 28]) type: torch.FloatTensor\n",
            "y_train: torch.Size([32]) type: torch.LongTensor\n"
          ],
          "name": "stdout"
        }
      ]
    },
    {
      "cell_type": "markdown",
      "metadata": {
        "id": "l-HI9wwyQ3y4",
        "colab_type": "text"
      },
      "source": [
        "Here are the first 10 training digits:"
      ]
    },
    {
      "cell_type": "code",
      "metadata": {
        "id": "bEwHbv16Q3y6",
        "colab_type": "code",
        "outputId": "00fe2973-52d2-4108-f760-d74223a262d2",
        "colab": {
          "base_uri": "https://localhost:8080/",
          "height": 94
        }
      },
      "source": [
        "pltsize=1\n",
        "plt.figure(figsize=(10*pltsize, pltsize))\n",
        "\n",
        "for i in range(10):\n",
        "    plt.subplot(1,10,i+1)\n",
        "    plt.axis('off')\n",
        "    plt.imshow(X_train[i,:,:,:].numpy().reshape(28,28), cmap=\"gray\")\n",
        "    plt.title('Class: '+str(y_train[i].item()))"
      ],
      "execution_count": 6,
      "outputs": [
        {
          "output_type": "display_data",
          "data": {
            "image/png": "[encoded data removed]",
            "text/plain": [
              "<Figure size 720x72 with 10 Axes>"
            ]
          },
          "metadata": {
            "tags": []
          }
        }
      ]
    },
    {
      "cell_type": "markdown",
      "metadata": {
        "id": "Lj0u1Y9uQ3y9",
        "colab_type": "text"
      },
      "source": [
        "## MLP network definition\n",
        "\n",
        "Let's define the network as a Python class.  We have to write the `__init__()` and `forward()` methods, and PyTorch will automatically generate a `backward()` method for computing the gradients for the backward pass.\n",
        "\n",
        "Finally, we define an optimizer to update the model parameters based on the computed gradients.  We select *stochastic gradient descent (with momentum)* as the optimization algorithm, and set *learning rate* to 0.01.  Note that there are [several different options](http://pytorch.org/docs/optim.html#algorithms) for the optimizer in PyTorch that we could use instead of *SGD*."
      ]
    },
    {
      "cell_type": "markdown",
      "metadata": {
        "id": "FB_060a0LkaB",
        "colab_type": "text"
      },
      "source": [
        "#### Question: Complete the missing blocks in the definition of the  convNet architecture \n",
        "\n",
        "The neural network should be composed as (FullyConnected 256 -> ReLU -> Fully Connected 256 -> ReLU -> Fully Connected 10 -> softmax)"
      ]
    },
    {
      "cell_type": "code",
      "metadata": {
        "id": "ERvvxFlPQ3y-",
        "colab_type": "code",
        "outputId": "31a1be69-39fa-431a-bfbe-a45c797e672c",
        "colab": {
          "base_uri": "https://localhost:8080/",
          "height": 102
        }
      },
      "source": [
        "H1 = 256\n",
        "H2 = 256 \n",
        "\n",
        "class Net(nn.Module):\n",
        "    def __init__(self):\n",
        "        super(Net, self).__init__()\n",
        "        self.fc1 = nn.Linear(28*28, H1)\n",
        "        self.fc2 = nn.Linear(H1, H2)\n",
        "        self.fc3 = nn.Linear(H2, 10)\n",
        "\n",
        "    def forward(self, x):\n",
        "        x = x.view(-1, 28*28)\n",
        "        x = F.relu(self.fc1(x))\n",
        "        x = F.relu(self.fc2(x))\n",
        "        return F.log_softmax(self.fc3(x), dim=1)\n",
        "        #return self.fc3(x)\n",
        "\n",
        "model = Net().to(device)\n",
        "optimizer = torch.optim.SGD(model.parameters(), lr=0.01, momentum=0.)\n",
        "#optimizer = torch.optim.Adam(model.parameters(), lr=0.01)\n",
        "criterion = nn.CrossEntropyLoss()\n",
        "\n",
        "print(model)"
      ],
      "execution_count": 7,
      "outputs": [
        {
          "output_type": "stream",
          "text": [
            "Net(\n",
            "  (fc1): Linear(in_features=784, out_features=256, bias=True)\n",
            "  (fc2): Linear(in_features=256, out_features=256, bias=True)\n",
            "  (fc3): Linear(in_features=256, out_features=10, bias=True)\n",
            ")\n"
          ],
          "name": "stdout"
        }
      ]
    },
    {
      "cell_type": "markdown",
      "metadata": {
        "id": "bbnPlkshVtS1",
        "colab_type": "text"
      },
      "source": [
        "### Question: Complete the missing blocks in the definition of the \"DropoutNet\" architecture\n",
        "\n",
        "The neural network should be composed as (FullyConnected 256 -> ReLU -> Dropout (0.2) -> Fully Connected 256 -> ReLU -> Dropout (0.5) -> Fully Connected 10 -> softmax)"
      ]
    },
    {
      "cell_type": "code",
      "metadata": {
        "id": "bEK5kptoSYfe",
        "colab_type": "code",
        "outputId": "711ab1f2-4e1b-4141-c417-7757a7f702cf",
        "colab": {
          "base_uri": "https://localhost:8080/",
          "height": 136
        }
      },
      "source": [
        "class NetDrop(nn.Module):\n",
        "    def __init__(self):\n",
        "        super(NetDrop, self).__init__()\n",
        "        self.fc1 = nn.Linear(28*28, H1)\n",
        "        self.fc1_drop = nn.Dropout(0.2)\n",
        "        self.fc2 = nn.Linear(H1, H2)\n",
        "        self.fc2_drop = nn.Dropout(0.5)\n",
        "        self.fc3 = nn.Linear(H2, 10)\n",
        "\n",
        "    def forward(self, x):\n",
        "        x = x.view(-1, 28*28)\n",
        "        x = F.relu(self.fc1(x))\n",
        "        x = self.fc1_drop(x)\n",
        "        x = F.relu(self.fc2(x))\n",
        "        x = self.fc2_drop(x)\n",
        "        return F.log_softmax(self.fc3(x), dim=1)\n",
        "\n",
        "modelDrop = NetDrop().to(device)\n",
        "optimizerDrop = torch.optim.SGD(modelDrop.parameters(), lr=0.01, momentum=0.)\n",
        "\n",
        "print(modelDrop)"
      ],
      "execution_count": 8,
      "outputs": [
        {
          "output_type": "stream",
          "text": [
            "NetDrop(\n",
            "  (fc1): Linear(in_features=784, out_features=256, bias=True)\n",
            "  (fc1_drop): Dropout(p=0.2, inplace=False)\n",
            "  (fc2): Linear(in_features=256, out_features=256, bias=True)\n",
            "  (fc2_drop): Dropout(p=0.5, inplace=False)\n",
            "  (fc3): Linear(in_features=256, out_features=10, bias=True)\n",
            ")\n"
          ],
          "name": "stdout"
        }
      ]
    },
    {
      "cell_type": "markdown",
      "metadata": {
        "id": "p1u8Y6ydL_L8",
        "colab_type": "text"
      },
      "source": [
        "### Question: Complete the missing blocks in the definition of the  \"Batchnormalization\" architecture\n",
        "\n",
        "The neural network should be composed as (FullyConnected 256 -> ReLU -> Batchnorm -> Fully Connected 256 -> ReLU -> Batchnorm -> Fully Connected 10 -> softmax)"
      ]
    },
    {
      "cell_type": "code",
      "metadata": {
        "id": "rcnP7ZRwMIu_",
        "colab_type": "code",
        "outputId": "45dbd5d0-16b6-4004-f48d-957acd1fb6c8",
        "colab": {
          "base_uri": "https://localhost:8080/",
          "height": 136
        }
      },
      "source": [
        "class NetBatchNorm(nn.Module):\n",
        "    def __init__(self):\n",
        "        super(NetBatchNorm, self).__init__()\n",
        "        self.fc1 = nn.Linear(28*28, H1)\n",
        "        self.bn1 = nn.BatchNorm1d(H1)\n",
        "        self.fc2 = nn.Linear(H1, H2)\n",
        "        self.bn2 = nn.BatchNorm1d(H2)\n",
        "        self.fc3 = nn.Linear(H2, 10)\n",
        "\n",
        "    def forward(self, x):\n",
        "        x = x.view(-1, 28*28)\n",
        "        x = F.relu(self.fc1(x))\n",
        "        x = self.bn1(x)\n",
        "        x = F.relu(self.fc2(x))\n",
        "        x = self.bn2(x)\n",
        "        return F.log_softmax(self.fc3(x), dim=1)\n",
        "\n",
        "modelBatchNorm = NetBatchNorm().to(device)\n",
        "optimizerBatchNorm = torch.optim.SGD(modelBatchNorm.parameters(), lr=0.01, momentum=0.)\n",
        "\n",
        "print(modelBatchNorm)"
      ],
      "execution_count": 9,
      "outputs": [
        {
          "output_type": "stream",
          "text": [
            "NetBatchNorm(\n",
            "  (fc1): Linear(in_features=784, out_features=256, bias=True)\n",
            "  (bn1): BatchNorm1d(256, eps=1e-05, momentum=0.1, affine=True, track_running_stats=True)\n",
            "  (fc2): Linear(in_features=256, out_features=256, bias=True)\n",
            "  (bn2): BatchNorm1d(256, eps=1e-05, momentum=0.1, affine=True, track_running_stats=True)\n",
            "  (fc3): Linear(in_features=256, out_features=10, bias=True)\n",
            ")\n"
          ],
          "name": "stdout"
        }
      ]
    },
    {
      "cell_type": "markdown",
      "metadata": {
        "id": "jOwerJmYQ3zA",
        "colab_type": "text"
      },
      "source": [
        "## Learning\n",
        "\n",
        "Let's now define functions to `train()` and `test()` the model. "
      ]
    },
    {
      "cell_type": "code",
      "metadata": {
        "id": "eyA6cc6kQ3zB",
        "colab_type": "code",
        "colab": {}
      },
      "source": [
        "def train(model, optimizer, epoch, log_interval=200):\n",
        "    # Set model to training mode\n",
        "    model.train()\n",
        "    \n",
        "    # Loop over each batch from the training set\n",
        "    for batch_idx, (data, target) in enumerate(train_loader):\n",
        "        # Copy data to GPU if needed\n",
        "        data = data.to(device)\n",
        "        target = target.to(device)\n",
        "\n",
        "        # Zero gradient buffers\n",
        "        optimizer.zero_grad() \n",
        "        \n",
        "        # Pass data through the network\n",
        "        output = model(data)\n",
        "\n",
        "        # Calculate loss\n",
        "        loss = criterion(output, target)\n",
        "\n",
        "        # Backpropagate\n",
        "        loss.backward()\n",
        "        \n",
        "        # Update weights\n",
        "        optimizer.step()\n",
        "        \n",
        "        if batch_idx % log_interval == 0:\n",
        "            print('Train Epoch: {} [{}/{} ({:.0f}%)]\\tLoss: {:.6f}'.format(\n",
        "                epoch, batch_idx * len(data), len(train_loader.dataset),\n",
        "                100. * batch_idx / len(train_loader), loss.data.item()))"
      ],
      "execution_count": 0,
      "outputs": []
    },
    {
      "cell_type": "code",
      "metadata": {
        "id": "GZpI82dgQ3zE",
        "colab_type": "code",
        "colab": {}
      },
      "source": [
        "def validate(model, loss_vector, accuracy_vector):\n",
        "    model.eval()\n",
        "    val_loss, correct = 0, 0\n",
        "    for data, target in validation_loader:\n",
        "        data = data.to(device)\n",
        "        target = target.to(device)\n",
        "        output = model(data)\n",
        "        val_loss += criterion(output, target).data.item()\n",
        "        pred = output.data.max(1)[1] # get the index of the max log-probability\n",
        "        correct += pred.eq(target.data).cpu().sum()\n",
        "\n",
        "    val_loss /= len(validation_loader)\n",
        "    loss_vector.append(val_loss)\n",
        "\n",
        "    accuracy = 100. * correct.to(torch.float32) / len(validation_loader.dataset)\n",
        "    accuracy_vector.append(accuracy)\n",
        "    \n",
        "    print('\\nValidation set: Average loss: {:.4f}, Accuracy: {}/{} ({:.0f}%)\\n'.format(\n",
        "        val_loss, correct, len(validation_loader.dataset), accuracy))"
      ],
      "execution_count": 0,
      "outputs": []
    },
    {
      "cell_type": "markdown",
      "metadata": {
        "id": "RpE7EGviQ3zF",
        "colab_type": "text"
      },
      "source": [
        "Now we are ready to train our model using the `train()` function.  An *epoch* means one pass through the whole training data. After each epoch, we evaluate the model using `test()`. "
      ]
    },
    {
      "cell_type": "markdown",
      "metadata": {
        "id": "Ls0lR3WvVVZQ",
        "colab_type": "text"
      },
      "source": [
        "Training without Dropout"
      ]
    },
    {
      "cell_type": "code",
      "metadata": {
        "id": "uFPAF_CNQ3zG",
        "colab_type": "code",
        "outputId": "dc7d9646-e5f7-42dd-d210-4fc3999a4645",
        "colab": {
          "base_uri": "https://localhost:8080/",
          "height": 714
        }
      },
      "source": [
        "%%time\n",
        "epochs = 3\n",
        "\n",
        "lossv, accv = [], []\n",
        "for epoch in range(1, epochs + 1):\n",
        "    train(model, optimizer, epoch)\n",
        "    validate(model, lossv, accv)"
      ],
      "execution_count": 12,
      "outputs": [
        {
          "output_type": "stream",
          "text": [
            "Train Epoch: 1 [0/60000 (0%)]\tLoss: 2.307412\n",
            "Train Epoch: 1 [6400/60000 (11%)]\tLoss: 2.245665\n",
            "Train Epoch: 1 [12800/60000 (21%)]\tLoss: 1.866955\n",
            "Train Epoch: 1 [19200/60000 (32%)]\tLoss: 1.311628\n",
            "Train Epoch: 1 [25600/60000 (43%)]\tLoss: 0.849425\n",
            "Train Epoch: 1 [32000/60000 (53%)]\tLoss: 0.680503\n",
            "Train Epoch: 1 [38400/60000 (64%)]\tLoss: 0.454452\n",
            "Train Epoch: 1 [44800/60000 (75%)]\tLoss: 0.390769\n",
            "Train Epoch: 1 [51200/60000 (85%)]\tLoss: 0.654635\n",
            "Train Epoch: 1 [57600/60000 (96%)]\tLoss: 0.235375\n",
            "\n",
            "Validation set: Average loss: 0.4100, Accuracy: 8849/10000 (88%)\n",
            "\n",
            "Train Epoch: 2 [0/60000 (0%)]\tLoss: 0.437294\n",
            "Train Epoch: 2 [6400/60000 (11%)]\tLoss: 0.501847\n",
            "Train Epoch: 2 [12800/60000 (21%)]\tLoss: 0.183327\n",
            "Train Epoch: 2 [19200/60000 (32%)]\tLoss: 0.520470\n",
            "Train Epoch: 2 [25600/60000 (43%)]\tLoss: 0.256300\n",
            "Train Epoch: 2 [32000/60000 (53%)]\tLoss: 0.338155\n",
            "Train Epoch: 2 [38400/60000 (64%)]\tLoss: 0.296613\n",
            "Train Epoch: 2 [44800/60000 (75%)]\tLoss: 0.138429\n",
            "Train Epoch: 2 [51200/60000 (85%)]\tLoss: 0.166148\n",
            "Train Epoch: 2 [57600/60000 (96%)]\tLoss: 0.390254\n",
            "\n",
            "Validation set: Average loss: 0.3138, Accuracy: 9085/10000 (91%)\n",
            "\n",
            "Train Epoch: 3 [0/60000 (0%)]\tLoss: 0.250304\n",
            "Train Epoch: 3 [6400/60000 (11%)]\tLoss: 0.266698\n",
            "Train Epoch: 3 [12800/60000 (21%)]\tLoss: 0.517123\n",
            "Train Epoch: 3 [19200/60000 (32%)]\tLoss: 0.365276\n",
            "Train Epoch: 3 [25600/60000 (43%)]\tLoss: 0.109198\n",
            "Train Epoch: 3 [32000/60000 (53%)]\tLoss: 0.270962\n",
            "Train Epoch: 3 [38400/60000 (64%)]\tLoss: 0.220828\n",
            "Train Epoch: 3 [44800/60000 (75%)]\tLoss: 0.251845\n",
            "Train Epoch: 3 [51200/60000 (85%)]\tLoss: 0.237793\n",
            "Train Epoch: 3 [57600/60000 (96%)]\tLoss: 0.359380\n",
            "\n",
            "Validation set: Average loss: 0.2665, Accuracy: 9231/10000 (92%)\n",
            "\n",
            "CPU times: user 19.5 s, sys: 245 ms, total: 19.7 s\n",
            "Wall time: 20 s\n"
          ],
          "name": "stdout"
        }
      ]
    },
    {
      "cell_type": "markdown",
      "metadata": {
        "id": "fqI_dIneVR-o",
        "colab_type": "text"
      },
      "source": [
        "Training with Dropout"
      ]
    },
    {
      "cell_type": "code",
      "metadata": {
        "id": "RPiJfdeqTJqb",
        "colab_type": "code",
        "outputId": "0d87dabe-1efb-4007-bbd7-93582e41ab31",
        "colab": {
          "base_uri": "https://localhost:8080/",
          "height": 714
        }
      },
      "source": [
        "%%time\n",
        "\n",
        "lossvDrop, accvDrop = [], []\n",
        "for epoch in range(1, epochs + 1):\n",
        "    train(modelDrop, optimizerDrop, epoch)\n",
        "    validate(modelDrop, lossvDrop, accvDrop)"
      ],
      "execution_count": 13,
      "outputs": [
        {
          "output_type": "stream",
          "text": [
            "Train Epoch: 1 [0/60000 (0%)]\tLoss: 2.281672\n",
            "Train Epoch: 1 [6400/60000 (11%)]\tLoss: 2.222131\n",
            "Train Epoch: 1 [12800/60000 (21%)]\tLoss: 2.018415\n",
            "Train Epoch: 1 [19200/60000 (32%)]\tLoss: 1.539140\n",
            "Train Epoch: 1 [25600/60000 (43%)]\tLoss: 0.873631\n",
            "Train Epoch: 1 [32000/60000 (53%)]\tLoss: 0.996420\n",
            "Train Epoch: 1 [38400/60000 (64%)]\tLoss: 0.514064\n",
            "Train Epoch: 1 [44800/60000 (75%)]\tLoss: 0.490865\n",
            "Train Epoch: 1 [51200/60000 (85%)]\tLoss: 0.791894\n",
            "Train Epoch: 1 [57600/60000 (96%)]\tLoss: 0.390526\n",
            "\n",
            "Validation set: Average loss: 0.4416, Accuracy: 8799/10000 (88%)\n",
            "\n",
            "Train Epoch: 2 [0/60000 (0%)]\tLoss: 0.471042\n",
            "Train Epoch: 2 [6400/60000 (11%)]\tLoss: 0.474038\n",
            "Train Epoch: 2 [12800/60000 (21%)]\tLoss: 0.692454\n",
            "Train Epoch: 2 [19200/60000 (32%)]\tLoss: 0.598221\n",
            "Train Epoch: 2 [25600/60000 (43%)]\tLoss: 0.477985\n",
            "Train Epoch: 2 [32000/60000 (53%)]\tLoss: 0.395114\n",
            "Train Epoch: 2 [38400/60000 (64%)]\tLoss: 0.496942\n",
            "Train Epoch: 2 [44800/60000 (75%)]\tLoss: 0.163021\n",
            "Train Epoch: 2 [51200/60000 (85%)]\tLoss: 0.368028\n",
            "Train Epoch: 2 [57600/60000 (96%)]\tLoss: 0.490846\n",
            "\n",
            "Validation set: Average loss: 0.3163, Accuracy: 9095/10000 (91%)\n",
            "\n",
            "Train Epoch: 3 [0/60000 (0%)]\tLoss: 0.224360\n",
            "Train Epoch: 3 [6400/60000 (11%)]\tLoss: 0.473030\n",
            "Train Epoch: 3 [12800/60000 (21%)]\tLoss: 0.359389\n",
            "Train Epoch: 3 [19200/60000 (32%)]\tLoss: 0.406487\n",
            "Train Epoch: 3 [25600/60000 (43%)]\tLoss: 0.276422\n",
            "Train Epoch: 3 [32000/60000 (53%)]\tLoss: 0.491105\n",
            "Train Epoch: 3 [38400/60000 (64%)]\tLoss: 0.342024\n",
            "Train Epoch: 3 [44800/60000 (75%)]\tLoss: 0.358268\n",
            "Train Epoch: 3 [51200/60000 (85%)]\tLoss: 0.181028\n",
            "Train Epoch: 3 [57600/60000 (96%)]\tLoss: 0.316748\n",
            "\n",
            "Validation set: Average loss: 0.2655, Accuracy: 9228/10000 (92%)\n",
            "\n",
            "CPU times: user 20.2 s, sys: 258 ms, total: 20.5 s\n",
            "Wall time: 20.6 s\n"
          ],
          "name": "stdout"
        }
      ]
    },
    {
      "cell_type": "markdown",
      "metadata": {
        "id": "nhG5ZvXIMpZ2",
        "colab_type": "text"
      },
      "source": [
        "Training with Batchnormalization"
      ]
    },
    {
      "cell_type": "code",
      "metadata": {
        "id": "IUWKOAvjM0QI",
        "colab_type": "code",
        "outputId": "e601856a-0cad-4074-8fe1-93f7683371df",
        "colab": {
          "base_uri": "https://localhost:8080/",
          "height": 714
        }
      },
      "source": [
        "%%time\n",
        "\n",
        "lossvBN, accvBN = [], []\n",
        "for epoch in range(1, epochs + 1):\n",
        "    train(modelBatchNorm, optimizerBatchNorm, epoch)\n",
        "    validate(modelBatchNorm, lossvBN, accvBN)"
      ],
      "execution_count": 14,
      "outputs": [
        {
          "output_type": "stream",
          "text": [
            "Train Epoch: 1 [0/60000 (0%)]\tLoss: 2.613776\n",
            "Train Epoch: 1 [6400/60000 (11%)]\tLoss: 0.384290\n",
            "Train Epoch: 1 [12800/60000 (21%)]\tLoss: 0.336085\n",
            "Train Epoch: 1 [19200/60000 (32%)]\tLoss: 0.521595\n",
            "Train Epoch: 1 [25600/60000 (43%)]\tLoss: 0.170846\n",
            "Train Epoch: 1 [32000/60000 (53%)]\tLoss: 0.187721\n",
            "Train Epoch: 1 [38400/60000 (64%)]\tLoss: 0.092372\n",
            "Train Epoch: 1 [44800/60000 (75%)]\tLoss: 0.046018\n",
            "Train Epoch: 1 [51200/60000 (85%)]\tLoss: 0.153026\n",
            "Train Epoch: 1 [57600/60000 (96%)]\tLoss: 0.279725\n",
            "\n",
            "Validation set: Average loss: 0.1177, Accuracy: 9669/10000 (97%)\n",
            "\n",
            "Train Epoch: 2 [0/60000 (0%)]\tLoss: 0.093377\n",
            "Train Epoch: 2 [6400/60000 (11%)]\tLoss: 0.064601\n",
            "Train Epoch: 2 [12800/60000 (21%)]\tLoss: 0.144991\n",
            "Train Epoch: 2 [19200/60000 (32%)]\tLoss: 0.053148\n",
            "Train Epoch: 2 [25600/60000 (43%)]\tLoss: 0.143767\n",
            "Train Epoch: 2 [32000/60000 (53%)]\tLoss: 0.058710\n",
            "Train Epoch: 2 [38400/60000 (64%)]\tLoss: 0.230804\n",
            "Train Epoch: 2 [44800/60000 (75%)]\tLoss: 0.041258\n",
            "Train Epoch: 2 [51200/60000 (85%)]\tLoss: 0.032795\n",
            "Train Epoch: 2 [57600/60000 (96%)]\tLoss: 0.069206\n",
            "\n",
            "Validation set: Average loss: 0.1028, Accuracy: 9689/10000 (97%)\n",
            "\n",
            "Train Epoch: 3 [0/60000 (0%)]\tLoss: 0.054632\n",
            "Train Epoch: 3 [6400/60000 (11%)]\tLoss: 0.044701\n",
            "Train Epoch: 3 [12800/60000 (21%)]\tLoss: 0.078037\n",
            "Train Epoch: 3 [19200/60000 (32%)]\tLoss: 0.147524\n",
            "Train Epoch: 3 [25600/60000 (43%)]\tLoss: 0.037508\n",
            "Train Epoch: 3 [32000/60000 (53%)]\tLoss: 0.041065\n",
            "Train Epoch: 3 [38400/60000 (64%)]\tLoss: 0.033965\n",
            "Train Epoch: 3 [44800/60000 (75%)]\tLoss: 0.187739\n",
            "Train Epoch: 3 [51200/60000 (85%)]\tLoss: 0.041654\n",
            "Train Epoch: 3 [57600/60000 (96%)]\tLoss: 0.036274\n",
            "\n",
            "Validation set: Average loss: 0.0786, Accuracy: 9755/10000 (98%)\n",
            "\n",
            "CPU times: user 22 s, sys: 255 ms, total: 22.3 s\n",
            "Wall time: 22.4 s\n"
          ],
          "name": "stdout"
        }
      ]
    },
    {
      "cell_type": "markdown",
      "metadata": {
        "id": "l0YZ4vNbQ3zI",
        "colab_type": "text"
      },
      "source": [
        "Let's now visualize how the training progressed. \n",
        "\n",
        "* *Loss* is a function of the difference of the network output and the target values.  We are minimizing the loss function during training so it should decrease over time.\n",
        "* *Accuracy* is the classification accuracy for the test data."
      ]
    },
    {
      "cell_type": "code",
      "metadata": {
        "id": "MN2LcmsHQ3zJ",
        "colab_type": "code",
        "outputId": "b1ea8f2d-f755-4ff5-f408-a79765c22a6a",
        "colab": {
          "base_uri": "https://localhost:8080/",
          "height": 465
        }
      },
      "source": [
        "plt.figure(figsize=(5,3))\n",
        "plt.plot(np.arange(1,epochs+1), lossv, label='no dropout')\n",
        "plt.plot(np.arange(1,epochs+1), lossvDrop, label='with dropout')\n",
        "plt.plot(np.arange(1,epochs+1), lossvBN, label='with batchnormalization')\n",
        "plt.legend(loc='upper left');\n",
        "plt.xlabel('epoch')\n",
        "plt.title('validation loss')\n",
        "plt.show()\n",
        "\n",
        "plt.figure(figsize=(5,3))\n",
        "plt.plot(np.arange(1,epochs+1), accv, label='no dropout')\n",
        "plt.plot(np.arange(1,epochs+1), accvDrop, label='with dropout')\n",
        "plt.plot(np.arange(1,epochs+1), accvBN, label='with batchnormalization')\n",
        "plt.legend(loc='upper left');\n",
        "plt.xlabel('epoch')\n",
        "plt.title('validation accuracy');"
      ],
      "execution_count": 15,
      "outputs": [
        {
          "output_type": "display_data",
          "data": {
            "image/png": "[encoded data removed]",
            "text/plain": [
              "<Figure size 360x216 with 1 Axes>"
            ]
          },
          "metadata": {
            "tags": []
          }
        },
        {
          "output_type": "display_data",
          "data": {
            "image/png": "[encoded data removed]",
            "text/plain": [
              "<Figure size 360x216 with 1 Axes>"
            ]
          },
          "metadata": {
            "tags": []
          }
        }
      ]
    },
    {
      "cell_type": "code",
      "metadata": {
        "id": "B4yjgoWoFwYC",
        "colab_type": "code",
        "colab": {}
      },
      "source": [
        "# Function to count the number of parameters\n",
        "def count_parameters(model):\n",
        "    return sum(p.numel() for p in model.parameters() if p.requires_grad)"
      ],
      "execution_count": 0,
      "outputs": []
    },
    {
      "cell_type": "code",
      "metadata": {
        "id": "h-InXI6HFy2d",
        "colab_type": "code",
        "colab": {
          "base_uri": "https://localhost:8080/",
          "height": 187
        },
        "outputId": "f52141f0-71c3-44db-ae8a-5738c231af7b"
      },
      "source": [
        "print(modelBatchNorm.parameters)\n",
        "print(\"\\nTotal number of parameters {}\\n\".format(count_parameters(modelBatchNorm)))"
      ],
      "execution_count": 17,
      "outputs": [
        {
          "output_type": "stream",
          "text": [
            "<bound method Module.parameters of NetBatchNorm(\n",
            "  (fc1): Linear(in_features=784, out_features=256, bias=True)\n",
            "  (bn1): BatchNorm1d(256, eps=1e-05, momentum=0.1, affine=True, track_running_stats=True)\n",
            "  (fc2): Linear(in_features=256, out_features=256, bias=True)\n",
            "  (bn2): BatchNorm1d(256, eps=1e-05, momentum=0.1, affine=True, track_running_stats=True)\n",
            "  (fc3): Linear(in_features=256, out_features=10, bias=True)\n",
            ")>\n",
            "\n",
            "Total number of parameters 270346\n",
            "\n"
          ],
          "name": "stdout"
        }
      ]
    },
    {
      "cell_type": "code",
      "metadata": {
        "id": "9-N84gOrF1xn",
        "colab_type": "code",
        "colab": {
          "base_uri": "https://localhost:8080/",
          "height": 153
        },
        "outputId": "ef92d04c-e7f6-4065-849a-78e0516f7528"
      },
      "source": [
        "print(model.parameters)\n",
        "print(\"\\nTotal number of parameters {}\\n\".format(count_parameters(model)))\n",
        "# We have 1024 parameters more with the batch normalization. Why? \n",
        "# Because we have 2 batchnorm layers, each one with 2x256 parameters."
      ],
      "execution_count": 18,
      "outputs": [
        {
          "output_type": "stream",
          "text": [
            "<bound method Module.parameters of Net(\n",
            "  (fc1): Linear(in_features=784, out_features=256, bias=True)\n",
            "  (fc2): Linear(in_features=256, out_features=256, bias=True)\n",
            "  (fc3): Linear(in_features=256, out_features=10, bias=True)\n",
            ")>\n",
            "\n",
            "Total number of parameters 269322\n",
            "\n"
          ],
          "name": "stdout"
        }
      ]
    },
    {
      "cell_type": "markdown",
      "metadata": {
        "id": "1-o8iKwlQ3zM",
        "colab_type": "text"
      },
      "source": [
        "### Question (model tuning): compare the gain when the first layer has less neurons (50 instead of 256)\n",
        "\n"
      ]
    },
    {
      "cell_type": "markdown",
      "metadata": {
        "id": "8E1SmvXmOcMn",
        "colab_type": "text"
      },
      "source": [
        "### Question (model tuning): increase the number of epochs for the training (10 instead of 3)"
      ]
    }
  ]
}