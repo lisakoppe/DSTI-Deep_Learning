{
  "nbformat": 4,
  "nbformat_minor": 0,
  "metadata": {
    "kernelspec": {
      "name": "python3",
      "display_name": "Python 3"
    },
    "language_info": {
      "codemirror_mode": {
        "name": "ipython",
        "version": 3
      },
      "file_extension": ".py",
      "mimetype": "text/x-python",
      "name": "python",
      "nbconvert_exporter": "python",
      "pygments_lexer": "ipython3",
      "version": "3.7.3"
    },
    "colab": {
      "name": "01-Lab1.ipynb",
      "provenance": [],
      "collapsed_sections": []
    },
    "accelerator": "GPU"
  },
  "cells": [
    {
      "cell_type": "markdown",
      "metadata": {
        "id": "mYjIe2Y5gC9e",
        "colab_type": "text"
      },
      "source": [
        "# Torch basics"
      ]
    },
    {
      "cell_type": "code",
      "metadata": {
        "id": "Hh6cps5cgC9g",
        "colab_type": "code",
        "colab": {}
      },
      "source": [
        "import matplotlib.pyplot as plt\n",
        "%matplotlib inline\n",
        "import torch\n",
        "import numpy as np"
      ],
      "execution_count": 0,
      "outputs": []
    },
    {
      "cell_type": "code",
      "metadata": {
        "id": "Pe1KgPFqgC9m",
        "colab_type": "code",
        "outputId": "6f454f5c-d7b1-42fa-9932-a92872f7b4d9",
        "colab": {
          "base_uri": "https://localhost:8080/",
          "height": 34
        }
      },
      "source": [
        "torch.__version__"
      ],
      "execution_count": 2,
      "outputs": [
        {
          "output_type": "execute_result",
          "data": {
            "text/plain": [
              "'1.4.0'"
            ]
          },
          "metadata": {
            "tags": []
          },
          "execution_count": 2
        }
      ]
    },
    {
      "cell_type": "markdown",
      "metadata": {
        "id": "lMn2UjdXgC9r",
        "colab_type": "text"
      },
      "source": [
        "Largely inspired from the tutorial [What is PyTorch?](https://pytorch.org/tutorials/beginner/former_torchies/tensor_tutorial.html)\n",
        "\n",
        "Tensors are used to encode the signal to process, but also the internal states and parameters of models.\n",
        "\n",
        "Manipulating data through this constrained structure allows to use CPUs and GPUs at peak performance.\n",
        "\n"
      ]
    },
    {
      "cell_type": "markdown",
      "metadata": {
        "id": "loUAlh7dyVpN",
        "colab_type": "text"
      },
      "source": [
        "## Tensors"
      ]
    },
    {
      "cell_type": "markdown",
      "metadata": {
        "id": "hlUFi857xt6Q",
        "colab_type": "text"
      },
      "source": [
        "Construct a 3x5 matrix, uninitialized:"
      ]
    },
    {
      "cell_type": "code",
      "metadata": {
        "id": "2kLcNt8IgC9r",
        "colab_type": "code",
        "colab": {}
      },
      "source": [
        "# Sets the default floating point dtype. \n",
        "# This type will be used as default floating point type for type inference in torch.tensor().\n",
        "torch.set_default_tensor_type('torch.FloatTensor') "
      ],
      "execution_count": 0,
      "outputs": []
    },
    {
      "cell_type": "code",
      "metadata": {
        "id": "RjUhHCJMgC9u",
        "colab_type": "code",
        "outputId": "cf6b3a46-af8e-4e5c-c99d-68834477220e",
        "colab": {
          "base_uri": "https://localhost:8080/",
          "height": 85
        }
      },
      "source": [
        "x = torch.empty(3,5)\n",
        "print(x.type())\n",
        "print(x)"
      ],
      "execution_count": 4,
      "outputs": [
        {
          "output_type": "stream",
          "text": [
            "torch.FloatTensor\n",
            "tensor([[2.4326e-35, 0.0000e+00, 0.0000e+00, 0.0000e+00, 0.0000e+00],\n",
            "        [0.0000e+00, 0.0000e+00, 0.0000e+00, 2.8026e-45, 0.0000e+00],\n",
            "        [1.1210e-44, 0.0000e+00, 1.4013e-45, 0.0000e+00, 0.0000e+00]])\n"
          ],
          "name": "stdout"
        }
      ]
    },
    {
      "cell_type": "code",
      "metadata": {
        "id": "MnRsrLh5gC9w",
        "colab_type": "code",
        "outputId": "2693c0a5-43b0-4504-9398-8dc078b15e29",
        "colab": {
          "base_uri": "https://localhost:8080/",
          "height": 68
        }
      },
      "source": [
        "x = torch.randn(3,5)\n",
        "print(x)"
      ],
      "execution_count": 5,
      "outputs": [
        {
          "output_type": "stream",
          "text": [
            "tensor([[ 1.1783,  0.4163, -1.1832,  1.4701,  1.0943],\n",
            "        [-1.2874, -0.7098, -0.9946,  0.6475, -0.6330],\n",
            "        [ 0.4372, -0.3035, -1.0459,  0.5941,  1.4833]])\n"
          ],
          "name": "stdout"
        }
      ]
    },
    {
      "cell_type": "code",
      "metadata": {
        "id": "lfgpO7kUgC9z",
        "colab_type": "code",
        "outputId": "e2798d32-b3ae-4005-8a26-670e210e1146",
        "colab": {
          "base_uri": "https://localhost:8080/",
          "height": 34
        }
      },
      "source": [
        "print(x.size())"
      ],
      "execution_count": 6,
      "outputs": [
        {
          "output_type": "stream",
          "text": [
            "torch.Size([3, 5])\n"
          ],
          "name": "stdout"
        }
      ]
    },
    {
      "cell_type": "markdown",
      "metadata": {
        "id": "NNLzvVKigC92",
        "colab_type": "text"
      },
      "source": [
        "torch.Size is in fact a [tuple](https://docs.python.org/3/tutorial/datastructures.html#tuples-and-sequences), so it supports the same operations."
      ]
    },
    {
      "cell_type": "code",
      "metadata": {
        "id": "W-o3sFH3gC92",
        "colab_type": "code",
        "outputId": "a2100dd5-4298-4c97-bd74-bb9431a80887",
        "colab": {
          "base_uri": "https://localhost:8080/",
          "height": 34
        }
      },
      "source": [
        "x.size()[1]"
      ],
      "execution_count": 7,
      "outputs": [
        {
          "output_type": "execute_result",
          "data": {
            "text/plain": [
              "5"
            ]
          },
          "metadata": {
            "tags": []
          },
          "execution_count": 7
        }
      ]
    },
    {
      "cell_type": "code",
      "metadata": {
        "id": "LkQAasgtgC95",
        "colab_type": "code",
        "outputId": "12919d44-c272-467f-f1d5-25635bfc08bb",
        "colab": {
          "base_uri": "https://localhost:8080/",
          "height": 34
        }
      },
      "source": [
        "x.size() == (3,5)"
      ],
      "execution_count": 8,
      "outputs": [
        {
          "output_type": "execute_result",
          "data": {
            "text/plain": [
              "True"
            ]
          },
          "metadata": {
            "tags": []
          },
          "execution_count": 8
        }
      ]
    },
    {
      "cell_type": "markdown",
      "metadata": {
        "id": "GDufwT0Kstxv",
        "colab_type": "text"
      },
      "source": [
        "Importance of the brackets when defining a tensor"
      ]
    },
    {
      "cell_type": "code",
      "metadata": {
        "id": "wa9IPaaqsaPg",
        "colab_type": "code",
        "outputId": "57467b94-13dc-4980-daf6-1a195d1066e3",
        "colab": {
          "base_uri": "https://localhost:8080/",
          "height": 119
        }
      },
      "source": [
        "a = torch.tensor([2.0])\n",
        "print(type(a))\n",
        "print(a.dtype)\n",
        "print(a.size())\n",
        "\n",
        "b = torch.tensor(2.0)\n",
        "print(type(b))\n",
        "print(b.dtype)\n",
        "print(b.size())"
      ],
      "execution_count": 9,
      "outputs": [
        {
          "output_type": "stream",
          "text": [
            "<class 'torch.Tensor'>\n",
            "torch.float32\n",
            "torch.Size([1])\n",
            "<class 'torch.Tensor'>\n",
            "torch.float32\n",
            "torch.Size([])\n"
          ],
          "name": "stdout"
        }
      ]
    },
    {
      "cell_type": "markdown",
      "metadata": {
        "id": "XeAg1TcMhyf4",
        "colab_type": "text"
      },
      "source": [
        "Select some columns"
      ]
    },
    {
      "cell_type": "code",
      "metadata": {
        "id": "DZaC-fXlgY6G",
        "colab_type": "code",
        "outputId": "6a390ff6-b0e5-44a9-83ef-b6fc7c4b0796",
        "colab": {
          "base_uri": "https://localhost:8080/",
          "height": 102
        }
      },
      "source": [
        "cols = torch.zeros(5, dtype=torch.bool)\n",
        "print(cols)\n",
        "cols[1] = True\n",
        "cols[4] = True\n",
        "print(cols)\n",
        "c = x[:, cols]  # selects all rows, 4th column and  5th column from a\n",
        "print(c)"
      ],
      "execution_count": 10,
      "outputs": [
        {
          "output_type": "stream",
          "text": [
            "tensor([False, False, False, False, False])\n",
            "tensor([False,  True, False, False,  True])\n",
            "tensor([[ 0.4163,  1.0943],\n",
            "        [-0.7098, -0.6330],\n",
            "        [-0.3035,  1.4833]])\n"
          ],
          "name": "stdout"
        }
      ]
    },
    {
      "cell_type": "markdown",
      "metadata": {
        "id": "t9v3syrRf-13",
        "colab_type": "text"
      },
      "source": [
        "All operations on the tensor that operate in-place on it will have an _ postfix. "
      ]
    },
    {
      "cell_type": "code",
      "metadata": {
        "id": "zr3PP5oVf1SV",
        "colab_type": "code",
        "outputId": "3b6a66d6-c4a3-44d2-ac01-ace7560061d6",
        "colab": {
          "base_uri": "https://localhost:8080/",
          "height": 68
        }
      },
      "source": [
        "# x will be filled with the value 3.5\n",
        "x.fill_(3.5)\n",
        "print(x)"
      ],
      "execution_count": 11,
      "outputs": [
        {
          "output_type": "stream",
          "text": [
            "tensor([[3.5000, 3.5000, 3.5000, 3.5000, 3.5000],\n",
            "        [3.5000, 3.5000, 3.5000, 3.5000, 3.5000],\n",
            "        [3.5000, 3.5000, 3.5000, 3.5000, 3.5000]])\n"
          ],
          "name": "stdout"
        }
      ]
    },
    {
      "cell_type": "markdown",
      "metadata": {
        "id": "SXPtlUXsgC96",
        "colab_type": "text"
      },
      "source": [
        "## Bridge to numpy"
      ]
    },
    {
      "cell_type": "code",
      "metadata": {
        "id": "61srdUzCgC97",
        "colab_type": "code",
        "outputId": "fb6dc2c8-5a2e-4f7b-db43-589780c921b3",
        "colab": {
          "base_uri": "https://localhost:8080/",
          "height": 68
        }
      },
      "source": [
        "y = x.numpy()\n",
        "print(y)"
      ],
      "execution_count": 12,
      "outputs": [
        {
          "output_type": "stream",
          "text": [
            "[[3.5 3.5 3.5 3.5 3.5]\n",
            " [3.5 3.5 3.5 3.5 3.5]\n",
            " [3.5 3.5 3.5 3.5 3.5]]\n"
          ],
          "name": "stdout"
        }
      ]
    },
    {
      "cell_type": "code",
      "metadata": {
        "id": "tFv5BzYsgC99",
        "colab_type": "code",
        "outputId": "dc740e2c-d63a-4dd9-fdeb-2ed040f0d026",
        "colab": {
          "base_uri": "https://localhost:8080/",
          "height": 34
        }
      },
      "source": [
        "a = np.ones(5)\n",
        "b = torch.from_numpy(a)\n",
        "print(b)\n",
        " "
      ],
      "execution_count": 13,
      "outputs": [
        {
          "output_type": "stream",
          "text": [
            "tensor([1., 1., 1., 1., 1.], dtype=torch.float64)\n"
          ],
          "name": "stdout"
        }
      ]
    },
    {
      "cell_type": "code",
      "metadata": {
        "id": "lfpk2tfpgC9-",
        "colab_type": "code",
        "outputId": "a79f67d4-936e-48c5-9db7-d7775920dbe1",
        "colab": {
          "base_uri": "https://localhost:8080/",
          "height": 85
        }
      },
      "source": [
        "xr = torch.randn(3, 5)\n",
        "a = np.ones(5).astype(int)\n",
        "b = torch.from_numpy(a)\n",
        "print(xr)\n",
        "print(b)"
      ],
      "execution_count": 14,
      "outputs": [
        {
          "output_type": "stream",
          "text": [
            "tensor([[ 0.0028,  1.1722, -1.7046, -0.2387,  0.5689],\n",
            "        [ 2.1127,  0.9340, -0.6653, -0.5390,  0.5693],\n",
            "        [-0.1310,  0.3894, -0.9677, -1.4151, -0.0640]])\n",
            "tensor([1, 1, 1, 1, 1])\n"
          ],
          "name": "stdout"
        }
      ]
    },
    {
      "cell_type": "markdown",
      "metadata": {
        "id": "C6sKTTlZ0RmP",
        "colab_type": "text"
      },
      "source": [
        "### Question: print the type of the content (data) of variables a, b and xr"
      ]
    },
    {
      "cell_type": "code",
      "metadata": {
        "id": "k07dBWLRxARt",
        "colab_type": "code",
        "outputId": "1d28a994-1515-45e9-90c2-92b69e94b8cd",
        "colab": {
          "base_uri": "https://localhost:8080/",
          "height": 68
        }
      },
      "source": [
        "print(a.dtype) # Array or tensor data type\n",
        "print(b.dtype)\n",
        "print(xr.dtype)"
      ],
      "execution_count": 15,
      "outputs": [
        {
          "output_type": "stream",
          "text": [
            "int64\n",
            "torch.int64\n",
            "torch.float32\n"
          ],
          "name": "stdout"
        }
      ]
    },
    {
      "cell_type": "markdown",
      "metadata": {
        "id": "7fwWdAYjUuiN",
        "colab_type": "text"
      },
      "source": [
        "## Operations\n",
        "\n",
        "There are multiple syntaxes for operations. In the following\n",
        "example, we will take a look at the addition operation.\n",
        "\n",
        "Addition: syntax 1"
      ]
    },
    {
      "cell_type": "code",
      "metadata": {
        "id": "4iASmmTAUxG0",
        "colab_type": "code",
        "outputId": "599d9b4a-697d-4308-86fa-aba775a2ddcb",
        "colab": {
          "base_uri": "https://localhost:8080/",
          "height": 102
        }
      },
      "source": [
        "x = torch.rand(5, 3) \n",
        "y = torch.rand(5, 3)\n",
        "print(x + y)"
      ],
      "execution_count": 16,
      "outputs": [
        {
          "output_type": "stream",
          "text": [
            "tensor([[1.4465, 0.6557, 1.1850],\n",
            "        [1.6468, 1.2958, 1.0375],\n",
            "        [0.5322, 1.1490, 1.2211],\n",
            "        [1.6135, 0.8874, 1.3546],\n",
            "        [0.2062, 1.2842, 0.7894]])\n"
          ],
          "name": "stdout"
        }
      ]
    },
    {
      "cell_type": "markdown",
      "metadata": {
        "id": "H5NxjdPhVQP8",
        "colab_type": "text"
      },
      "source": [
        "Addition: syntax 2"
      ]
    },
    {
      "cell_type": "code",
      "metadata": {
        "id": "GwCo8DOcVRHq",
        "colab_type": "code",
        "outputId": "b3803306-455e-4e3d-a208-861084a3e59c",
        "colab": {
          "base_uri": "https://localhost:8080/",
          "height": 102
        }
      },
      "source": [
        "print(torch.add(x, y))"
      ],
      "execution_count": 17,
      "outputs": [
        {
          "output_type": "stream",
          "text": [
            "tensor([[1.4465, 0.6557, 1.1850],\n",
            "        [1.6468, 1.2958, 1.0375],\n",
            "        [0.5322, 1.1490, 1.2211],\n",
            "        [1.6135, 0.8874, 1.3546],\n",
            "        [0.2062, 1.2842, 0.7894]])\n"
          ],
          "name": "stdout"
        }
      ]
    },
    {
      "cell_type": "markdown",
      "metadata": {
        "id": "wNuL3H61VZvS",
        "colab_type": "text"
      },
      "source": [
        "Addition: providing an output tensor as argument"
      ]
    },
    {
      "cell_type": "code",
      "metadata": {
        "id": "hX1ffSunVail",
        "colab_type": "code",
        "outputId": "88d88a1f-4250-411b-e3ca-6244aeea27d3",
        "colab": {
          "base_uri": "https://localhost:8080/",
          "height": 102
        }
      },
      "source": [
        "result = torch.empty(5, 3)\n",
        "torch.add(x, y, out=result)\n",
        "print(result)"
      ],
      "execution_count": 18,
      "outputs": [
        {
          "output_type": "stream",
          "text": [
            "tensor([[1.4465, 0.6557, 1.1850],\n",
            "        [1.6468, 1.2958, 1.0375],\n",
            "        [0.5322, 1.1490, 1.2211],\n",
            "        [1.6135, 0.8874, 1.3546],\n",
            "        [0.2062, 1.2842, 0.7894]])\n"
          ],
          "name": "stdout"
        }
      ]
    },
    {
      "cell_type": "markdown",
      "metadata": {
        "id": "-VK0_f0rVejB",
        "colab_type": "text"
      },
      "source": [
        "Addition: in-place"
      ]
    },
    {
      "cell_type": "code",
      "metadata": {
        "id": "rj0GKMgSVlGV",
        "colab_type": "code",
        "outputId": "b81fa3c4-3e33-4eb2-92db-8b3abc9a91e9",
        "colab": {
          "base_uri": "https://localhost:8080/",
          "height": 102
        }
      },
      "source": [
        "# adds x to y\n",
        "y.add_(x)\n",
        "print(y)"
      ],
      "execution_count": 19,
      "outputs": [
        {
          "output_type": "stream",
          "text": [
            "tensor([[1.4465, 0.6557, 1.1850],\n",
            "        [1.6468, 1.2958, 1.0375],\n",
            "        [0.5322, 1.1490, 1.2211],\n",
            "        [1.6135, 0.8874, 1.3546],\n",
            "        [0.2062, 1.2842, 0.7894]])\n"
          ],
          "name": "stdout"
        }
      ]
    },
    {
      "cell_type": "markdown",
      "metadata": {
        "id": "EgNBadgeVscS",
        "colab_type": "text"
      },
      "source": [
        "**Note:** Any operation that mutates a tensor in-place is post-fixed with an ``_``.\n",
        "    For example: ``x.copy_(y)``, ``x.t_()``, will change ``x``.\n",
        "\n"
      ]
    },
    {
      "cell_type": "markdown",
      "metadata": {
        "id": "kOPtMoOkgC-G",
        "colab_type": "text"
      },
      "source": [
        "Any operation that mutates a tensor in-place is post-fixed with an ```_```\n",
        "\n",
        "For example: ```x.copy_(y)```, ```x.t_()```, will change ```x```."
      ]
    },
    {
      "cell_type": "code",
      "metadata": {
        "id": "hrOV0mQIgC-G",
        "colab_type": "code",
        "outputId": "6768e44e-b352-4d8d-d9a0-3eb4a5855ad1",
        "colab": {
          "base_uri": "https://localhost:8080/",
          "height": 68
        }
      },
      "source": [
        "print(x.t())"
      ],
      "execution_count": 20,
      "outputs": [
        {
          "output_type": "stream",
          "text": [
            "tensor([[0.9968, 0.7037, 0.2631, 0.7906, 0.1338],\n",
            "        [0.4423, 0.9320, 0.5568, 0.8269, 0.8074],\n",
            "        [0.9727, 0.9654, 0.5524, 0.8162, 0.6385]])\n"
          ],
          "name": "stdout"
        }
      ]
    },
    {
      "cell_type": "code",
      "metadata": {
        "id": "LfNnD4vSgC-H",
        "colab_type": "code",
        "outputId": "f8a2f36b-9ec4-4828-e2a7-639097e2d2f5",
        "colab": {
          "base_uri": "https://localhost:8080/",
          "height": 102
        }
      },
      "source": [
        "print(x)"
      ],
      "execution_count": 21,
      "outputs": [
        {
          "output_type": "stream",
          "text": [
            "tensor([[0.9968, 0.4423, 0.9727],\n",
            "        [0.7037, 0.9320, 0.9654],\n",
            "        [0.2631, 0.5568, 0.5524],\n",
            "        [0.7906, 0.8269, 0.8162],\n",
            "        [0.1338, 0.8074, 0.6385]])\n"
          ],
          "name": "stdout"
        }
      ]
    },
    {
      "cell_type": "code",
      "metadata": {
        "id": "5YdHeI8lgC-I",
        "colab_type": "code",
        "outputId": "7d70320c-72a0-47c6-c0ce-f34c4fb6ac88",
        "colab": {
          "base_uri": "https://localhost:8080/",
          "height": 68
        }
      },
      "source": [
        "x.t_()\n",
        "print(x)"
      ],
      "execution_count": 22,
      "outputs": [
        {
          "output_type": "stream",
          "text": [
            "tensor([[0.9968, 0.7037, 0.2631, 0.7906, 0.1338],\n",
            "        [0.4423, 0.9320, 0.5568, 0.8269, 0.8074],\n",
            "        [0.9727, 0.9654, 0.5524, 0.8162, 0.6385]])\n"
          ],
          "name": "stdout"
        }
      ]
    },
    {
      "cell_type": "markdown",
      "metadata": {
        "id": "UfxHIL-mWyZl",
        "colab_type": "text"
      },
      "source": [
        "You can use standard NumPy-like indexing with all bells and whistles!"
      ]
    },
    {
      "cell_type": "code",
      "metadata": {
        "id": "Cz4M97B2Wtyu",
        "colab_type": "code",
        "outputId": "05267951-6366-4896-de00-028ec0200c09",
        "colab": {
          "base_uri": "https://localhost:8080/",
          "height": 34
        }
      },
      "source": [
        "print(x[:, 1])"
      ],
      "execution_count": 23,
      "outputs": [
        {
          "output_type": "stream",
          "text": [
            "tensor([0.7037, 0.9320, 0.9654])\n"
          ],
          "name": "stdout"
        }
      ]
    },
    {
      "cell_type": "markdown",
      "metadata": {
        "id": "M6tsVH8zW8yB",
        "colab_type": "text"
      },
      "source": [
        "Resizing (very useful): If you want to resize/reshape tensor, you can use ``torch.view``:"
      ]
    },
    {
      "cell_type": "code",
      "metadata": {
        "id": "k0qjaFPDW_3I",
        "colab_type": "code",
        "outputId": "52f91ac3-e12c-4377-ac8b-96471bf8532d",
        "colab": {
          "base_uri": "https://localhost:8080/",
          "height": 34
        }
      },
      "source": [
        "x = torch.randn(4, 4)\n",
        "y = x.view(16)\n",
        "z = x.view(-1, 8)  # the size -1 is inferred from other dimensions\n",
        "print(x.size(), y.size(), z.size())"
      ],
      "execution_count": 24,
      "outputs": [
        {
          "output_type": "stream",
          "text": [
            "torch.Size([4, 4]) torch.Size([16]) torch.Size([2, 8])\n"
          ],
          "name": "stdout"
        }
      ]
    },
    {
      "cell_type": "markdown",
      "metadata": {
        "id": "fP8sTTCgXRak",
        "colab_type": "text"
      },
      "source": [
        "If you have a one element tensor, use ``.item()`` to get the value as a\n",
        "Python number"
      ]
    },
    {
      "cell_type": "code",
      "metadata": {
        "id": "zaG9x6SHXSPw",
        "colab_type": "code",
        "outputId": "f264e08d-4ab8-46fe-f879-b3c973a5d362",
        "colab": {
          "base_uri": "https://localhost:8080/",
          "height": 51
        }
      },
      "source": [
        "x = torch.randn(1)\n",
        "print(x)\n",
        "print(x.item())"
      ],
      "execution_count": 25,
      "outputs": [
        {
          "output_type": "stream",
          "text": [
            "tensor([-0.1879])\n",
            "-0.18786795437335968\n"
          ],
          "name": "stdout"
        }
      ]
    },
    {
      "cell_type": "markdown",
      "metadata": {
        "id": "mqCvPrp-XmZQ",
        "colab_type": "text"
      },
      "source": [
        "**Read later:**\n",
        "\n",
        "\n",
        "  100+ Tensor operations, including transposing, indexing, slicing,\n",
        "  mathematical operations, linear algebra, random numbers, etc.,\n",
        "  are described\n",
        "  [here](https://pytorch.org/docs/torch)."
      ]
    },
    {
      "cell_type": "markdown",
      "metadata": {
        "id": "8Jk-JGYpeCNz",
        "colab_type": "text"
      },
      "source": [
        "## 3D Tensors"
      ]
    },
    {
      "cell_type": "markdown",
      "metadata": {
        "id": "RTGbU2E-eLWF",
        "colab_type": "text"
      },
      "source": [
        "### Question: What is the size of the following tensor?"
      ]
    },
    {
      "cell_type": "code",
      "metadata": {
        "id": "d-Dg4nyOeD4f",
        "colab_type": "code",
        "outputId": "e93ea654-228b-424b-9a67-fe1056d88a77",
        "colab": {
          "base_uri": "https://localhost:8080/",
          "height": 153
        }
      },
      "source": [
        "y = torch.tensor([\n",
        "     [\n",
        "       [1, 2, 3],\n",
        "       [4, 5, 6]\n",
        "     ],\n",
        "     [\n",
        "       [1, 2, 3],\n",
        "       [4, 5, 6]\n",
        "     ],\n",
        "     [\n",
        "       [1, 2, 3],\n",
        "       [4, 5, 6]\n",
        "     ]\n",
        "   ])\n",
        "print(y)"
      ],
      "execution_count": 0,
      "outputs": [
        {
          "output_type": "stream",
          "text": [
            "tensor([[[1, 2, 3],\n",
            "         [4, 5, 6]],\n",
            "\n",
            "        [[1, 2, 3],\n",
            "         [4, 5, 6]],\n",
            "\n",
            "        [[1, 2, 3],\n",
            "         [4, 5, 6]]])\n"
          ],
          "name": "stdout"
        }
      ]
    },
    {
      "cell_type": "code",
      "metadata": {
        "id": "2gBU82BTe0_y",
        "colab_type": "code",
        "outputId": "63e903b8-a16f-4617-a6b0-a6c320f79137",
        "colab": {
          "base_uri": "https://localhost:8080/",
          "height": 51
        }
      },
      "source": [
        "print(y.size())\n",
        "print(y.shape)"
      ],
      "execution_count": 27,
      "outputs": [
        {
          "output_type": "stream",
          "text": [
            "torch.Size([16])\n",
            "torch.Size([16])\n"
          ],
          "name": "stdout"
        }
      ]
    },
    {
      "cell_type": "markdown",
      "metadata": {
        "id": "dOUGbVEUe9DC",
        "colab_type": "text"
      },
      "source": [
        "### Question: Explain the result of the next cell"
      ]
    },
    {
      "cell_type": "code",
      "metadata": {
        "id": "14O04VMTe9eg",
        "colab_type": "code",
        "outputId": "e4a87c16-caca-41e4-fc97-d83353181ff5",
        "colab": {
          "base_uri": "https://localhost:8080/",
          "height": 34
        }
      },
      "source": [
        "torch.sum(y, dim=0)\n",
        "# We're summing the y tensor using the dimension 0, which corresponds to rows. We are thus summing nrow=3 (2x3) matrices. "
      ],
      "execution_count": 28,
      "outputs": [
        {
          "output_type": "execute_result",
          "data": {
            "text/plain": [
              "tensor(-5.6326)"
            ]
          },
          "metadata": {
            "tags": []
          },
          "execution_count": 28
        }
      ]
    },
    {
      "cell_type": "markdown",
      "metadata": {
        "id": "Ev68h5j1ZUNH",
        "colab_type": "text"
      },
      "source": [
        "## Broadcasting semantics\n",
        "\n",
        "In short, if a PyTorch operation supports broadcast, then its Tensor arguments can be automatically expanded to be of equal sizes (without making copies of the data).\n",
        "\n",
        "Two tensors are “broadcastable” if the following rules hold:\n",
        "\n",
        "*   Each tensor has at least one dimension.\n",
        "*   When iterating over the dimension sizes, **starting at the trailing dimension**, the dimension sizes must either be equal, one of them is 1, or one of them does not exist.\n",
        "\n",
        "If two tensors x, y are “broadcastable”, the resulting tensor size is calculated as follows:\n",
        "* If the number of dimensions of x and y are not equal, prepend 1 to the dimensions of the tensor with fewer dimensions to make them equal length.\n",
        "* Then, for each dimension size, the resulting dimension size is the max of the sizes of x and y along that dimension.\n",
        "\n",
        "More details [here](https://pytorch.org/docs/stable/notes/broadcasting.html)\n",
        "\n"
      ]
    },
    {
      "cell_type": "code",
      "metadata": {
        "id": "P3f9hXLxZXQa",
        "colab_type": "code",
        "outputId": "fecf09be-c7ee-46ea-e98b-d52b163ef1cd",
        "colab": {
          "base_uri": "https://localhost:8080/",
          "height": 595
        }
      },
      "source": [
        "# can line up trailing dimensions to make reading easier\n",
        "x=torch.empty(5,1,4,1)\n",
        "print(x)\n",
        "y=torch.empty(  3,1,1)\n",
        "print(y)\n",
        "print((x+y).size())"
      ],
      "execution_count": 29,
      "outputs": [
        {
          "output_type": "stream",
          "text": [
            "tensor([[[[2.4445e-35],\n",
            "          [0.0000e+00],\n",
            "          [7.0065e-44],\n",
            "          [6.7262e-44]]],\n",
            "\n",
            "\n",
            "        [[[6.3058e-44],\n",
            "          [6.7262e-44],\n",
            "          [7.1466e-44],\n",
            "          [6.3058e-44]]],\n",
            "\n",
            "\n",
            "        [[[7.0065e-44],\n",
            "          [7.4269e-44],\n",
            "          [1.1771e-43],\n",
            "          [6.7262e-44]]],\n",
            "\n",
            "\n",
            "        [[[7.8473e-44],\n",
            "          [8.1275e-44],\n",
            "          [7.0065e-44],\n",
            "          [7.5670e-44]]],\n",
            "\n",
            "\n",
            "        [[[8.1275e-44],\n",
            "          [6.8664e-44],\n",
            "          [7.9874e-44],\n",
            "          [6.4460e-44]]]])\n",
            "tensor([[[2.4331e-35]],\n",
            "\n",
            "        [[0.0000e+00]],\n",
            "\n",
            "        [[2.6625e-44]]])\n",
            "torch.Size([5, 3, 4, 1])\n"
          ],
          "name": "stdout"
        }
      ]
    },
    {
      "cell_type": "code",
      "metadata": {
        "id": "LsYo7aBqaJ5F",
        "colab_type": "code",
        "outputId": "50614bdb-d9eb-4656-d1e1-039174658098",
        "colab": {
          "base_uri": "https://localhost:8080/",
          "height": 34
        }
      },
      "source": [
        "# but not necessary:\n",
        "x=torch.empty(    1)\n",
        "y=torch.empty(3,1,7)\n",
        "print((x+y).size())"
      ],
      "execution_count": 30,
      "outputs": [
        {
          "output_type": "stream",
          "text": [
            "torch.Size([3, 1, 7])\n"
          ],
          "name": "stdout"
        }
      ]
    },
    {
      "cell_type": "markdown",
      "metadata": {
        "id": "0n_Y_hY6fxeL",
        "colab_type": "text"
      },
      "source": [
        "### Question: The following command does not work. Why?\n",
        "\n"
      ]
    },
    {
      "cell_type": "code",
      "metadata": {
        "id": "Vq3SqanjaO6U",
        "colab_type": "code",
        "outputId": "e5715c50-4b3b-4e11-a26d-214bc146b150",
        "colab": {
          "base_uri": "https://localhost:8080/",
          "height": 197
        }
      },
      "source": [
        "x=torch.empty(5,2,4,1)\n",
        "y=torch.empty(  3,1,1)\n",
        "print((x+y).size())"
      ],
      "execution_count": 31,
      "outputs": [
        {
          "output_type": "error",
          "ename": "RuntimeError",
          "evalue": "ignored",
          "traceback": [
            "\u001b[0;31m---------------------------------------------------------------------------\u001b[0m",
            "\u001b[0;31mRuntimeError\u001b[0m                              Traceback (most recent call last)",
            "\u001b[0;32m<ipython-input-31-b8d3fcc0b74d>\u001b[0m in \u001b[0;36m<module>\u001b[0;34m()\u001b[0m\n\u001b[1;32m      1\u001b[0m \u001b[0mx\u001b[0m\u001b[0;34m=\u001b[0m\u001b[0mtorch\u001b[0m\u001b[0;34m.\u001b[0m\u001b[0mempty\u001b[0m\u001b[0;34m(\u001b[0m\u001b[0;36m5\u001b[0m\u001b[0;34m,\u001b[0m\u001b[0;36m2\u001b[0m\u001b[0;34m,\u001b[0m\u001b[0;36m4\u001b[0m\u001b[0;34m,\u001b[0m\u001b[0;36m1\u001b[0m\u001b[0;34m)\u001b[0m\u001b[0;34m\u001b[0m\u001b[0;34m\u001b[0m\u001b[0m\n\u001b[1;32m      2\u001b[0m \u001b[0my\u001b[0m\u001b[0;34m=\u001b[0m\u001b[0mtorch\u001b[0m\u001b[0;34m.\u001b[0m\u001b[0mempty\u001b[0m\u001b[0;34m(\u001b[0m  \u001b[0;36m3\u001b[0m\u001b[0;34m,\u001b[0m\u001b[0;36m1\u001b[0m\u001b[0;34m,\u001b[0m\u001b[0;36m1\u001b[0m\u001b[0;34m)\u001b[0m\u001b[0;34m\u001b[0m\u001b[0;34m\u001b[0m\u001b[0m\n\u001b[0;32m----> 3\u001b[0;31m \u001b[0mprint\u001b[0m\u001b[0;34m(\u001b[0m\u001b[0;34m(\u001b[0m\u001b[0mx\u001b[0m\u001b[0;34m+\u001b[0m\u001b[0my\u001b[0m\u001b[0;34m)\u001b[0m\u001b[0;34m.\u001b[0m\u001b[0msize\u001b[0m\u001b[0;34m(\u001b[0m\u001b[0;34m)\u001b[0m\u001b[0;34m)\u001b[0m\u001b[0;34m\u001b[0m\u001b[0;34m\u001b[0m\u001b[0m\n\u001b[0m",
            "\u001b[0;31mRuntimeError\u001b[0m: The size of tensor a (2) must match the size of tensor b (3) at non-singleton dimension 1"
          ]
        }
      ]
    },
    {
      "cell_type": "code",
      "metadata": {
        "id": "ha4-WRJ0g4l9",
        "colab_type": "code",
        "outputId": "7cb713ef-fc85-40f6-f119-0aa846ed26f9",
        "colab": {
          "base_uri": "https://localhost:8080/",
          "height": 153
        }
      },
      "source": [
        "x=2*torch.ones(  2,4)\n",
        "y=torch.ones(3,2,4)\n",
        "print(x+y)"
      ],
      "execution_count": 32,
      "outputs": [
        {
          "output_type": "stream",
          "text": [
            "tensor([[[3., 3., 3., 3.],\n",
            "         [3., 3., 3., 3.]],\n",
            "\n",
            "        [[3., 3., 3., 3.],\n",
            "         [3., 3., 3., 3.]],\n",
            "\n",
            "        [[3., 3., 3., 3.],\n",
            "         [3., 3., 3., 3.]]])\n"
          ],
          "name": "stdout"
        }
      ]
    },
    {
      "cell_type": "markdown",
      "metadata": {
        "id": "Afol8pk8VPUn",
        "colab_type": "text"
      },
      "source": [
        "### Question: What is the diffence between \"x = xr\" and \"x = xr.clone()\"? "
      ]
    },
    {
      "cell_type": "code",
      "metadata": {
        "id": "ROIvJcOngC-E",
        "colab_type": "code",
        "outputId": "6094b87b-5211-4091-d6d2-93ad91d2578e",
        "colab": {
          "base_uri": "https://localhost:8080/",
          "height": 119
        }
      },
      "source": [
        "x = xr.clone()\n",
        "x.add_(-xr)\n",
        "print(x)\n",
        "print(xr)"
      ],
      "execution_count": 33,
      "outputs": [
        {
          "output_type": "stream",
          "text": [
            "tensor([[0., 0., 0., 0., 0.],\n",
            "        [0., 0., 0., 0., 0.],\n",
            "        [0., 0., 0., 0., 0.]])\n",
            "tensor([[ 0.0028,  1.1722, -1.7046, -0.2387,  0.5689],\n",
            "        [ 2.1127,  0.9340, -0.6653, -0.5390,  0.5693],\n",
            "        [-0.1310,  0.3894, -0.9677, -1.4151, -0.0640]])\n"
          ],
          "name": "stdout"
        }
      ]
    },
    {
      "cell_type": "markdown",
      "metadata": {
        "id": "UWxZLzMrgC-J",
        "colab_type": "text"
      },
      "source": [
        "Also be careful, changing the torch tensor modify the numpy array and vice-versa..."
      ]
    },
    {
      "cell_type": "code",
      "metadata": {
        "id": "lkcW43iugC-J",
        "colab_type": "code",
        "outputId": "c60b4349-a263-4364-e0dd-8d6d779b209a",
        "colab": {
          "base_uri": "https://localhost:8080/",
          "height": 85
        }
      },
      "source": [
        "y=torch.ones(2,4)\n",
        "print(y)\n",
        "z = y.numpy()\n",
        "print(z)"
      ],
      "execution_count": 34,
      "outputs": [
        {
          "output_type": "stream",
          "text": [
            "tensor([[1., 1., 1., 1.],\n",
            "        [1., 1., 1., 1.]])\n",
            "[[1. 1. 1. 1.]\n",
            " [1. 1. 1. 1.]]\n"
          ],
          "name": "stdout"
        }
      ]
    },
    {
      "cell_type": "code",
      "metadata": {
        "id": "qvRrtvz1gC-K",
        "colab_type": "code",
        "outputId": "098b239c-3459-4e12-e315-579e47530f2f",
        "colab": {
          "base_uri": "https://localhost:8080/",
          "height": 170
        }
      },
      "source": [
        "np.add(z, 1, out=z)\n",
        "print(\"z=\", z)\n",
        "print(\"y=\", y,\"\\n\")\n",
        "torch.add(y, -4, out=y)\n",
        "print(\"z=\",z)\n",
        "print(\"y=\",y)"
      ],
      "execution_count": 35,
      "outputs": [
        {
          "output_type": "stream",
          "text": [
            "z= [[2. 2. 2. 2.]\n",
            " [2. 2. 2. 2.]]\n",
            "y= tensor([[2., 2., 2., 2.],\n",
            "        [2., 2., 2., 2.]]) \n",
            "\n",
            "z= [[-2. -2. -2. -2.]\n",
            " [-2. -2. -2. -2.]]\n",
            "y= tensor([[-2., -2., -2., -2.],\n",
            "        [-2., -2., -2., -2.]])\n"
          ],
          "name": "stdout"
        }
      ]
    },
    {
      "cell_type": "markdown",
      "metadata": {
        "id": "AmGizC3pMbm8",
        "colab_type": "text"
      },
      "source": [
        "## Computational graphs"
      ]
    },
    {
      "cell_type": "code",
      "metadata": {
        "colab_type": "code",
        "id": "O5Kw7MQpMxWB",
        "colab": {}
      },
      "source": [
        "import matplotlib.pyplot as plt\n",
        "%matplotlib inline\n",
        "import torch"
      ],
      "execution_count": 0,
      "outputs": []
    },
    {
      "cell_type": "code",
      "metadata": {
        "id": "2Gza10WeM10G",
        "colab_type": "code",
        "outputId": "552167a6-7955-42fc-8771-dd9627086d5b",
        "colab": {
          "base_uri": "https://localhost:8080/",
          "height": 241
        }
      },
      "source": [
        "!pip install torchviz"
      ],
      "execution_count": 37,
      "outputs": [
        {
          "output_type": "stream",
          "text": [
            "Collecting torchviz\n",
            "\u001b[?25l  Downloading https://files.pythonhosted.org/packages/8f/8e/a9630c7786b846d08b47714dd363a051f5e37b4ea0e534460d8cdfc1644b/torchviz-0.0.1.tar.gz (41kB)\n",
            "\r\u001b[K     |████████                        | 10kB 31.2MB/s eta 0:00:01\r\u001b[K     |████████████████                | 20kB 3.0MB/s eta 0:00:01\r\u001b[K     |███████████████████████▉        | 30kB 4.4MB/s eta 0:00:01\r\u001b[K     |███████████████████████████████▉| 40kB 5.8MB/s eta 0:00:01\r\u001b[K     |████████████████████████████████| 51kB 4.4MB/s \n",
            "\u001b[?25hRequirement already satisfied: torch in /usr/local/lib/python3.6/dist-packages (from torchviz) (1.4.0)\n",
            "Requirement already satisfied: graphviz in /usr/local/lib/python3.6/dist-packages (from torchviz) (0.10.1)\n",
            "Building wheels for collected packages: torchviz\n",
            "  Building wheel for torchviz (setup.py) ... \u001b[?25l\u001b[?25hdone\n",
            "  Created wheel for torchviz: filename=torchviz-0.0.1-cp36-none-any.whl size=3523 sha256=f23d20bc9bb0316dbc931ee6e38f34dc053a1052634c0b2758eb05fd3ed848ce\n",
            "  Stored in directory: /root/.cache/pip/wheels/2a/c2/c5/b8b4d0f7992c735f6db5bfa3c5f354cf36502037ca2b585667\n",
            "Successfully built torchviz\n",
            "Installing collected packages: torchviz\n",
            "Successfully installed torchviz-0.0.1\n"
          ],
          "name": "stdout"
        }
      ]
    },
    {
      "cell_type": "code",
      "metadata": {
        "id": "1nEbmC7TM1mw",
        "colab_type": "code",
        "colab": {}
      },
      "source": [
        "import torchviz"
      ],
      "execution_count": 0,
      "outputs": []
    },
    {
      "cell_type": "code",
      "metadata": {
        "id": "5Z2dMtEOMuWb",
        "colab_type": "code",
        "outputId": "18fe17a2-e210-4bc6-d656-b6372827217b",
        "colab": {
          "base_uri": "https://localhost:8080/",
          "height": 315
        }
      },
      "source": [
        "x = torch.ones(2, 2, requires_grad=True)\n",
        "w = torch.rand(1, 1, requires_grad=True)\n",
        "print(x)\n",
        "print(w)\n",
        "y = w * x + 2\n",
        "print(y)\n",
        "torchviz.make_dot(y)"
      ],
      "execution_count": 39,
      "outputs": [
        {
          "output_type": "stream",
          "text": [
            "tensor([[1., 1.],\n",
            "        [1., 1.]], requires_grad=True)\n",
            "tensor([[0.9806]], requires_grad=True)\n",
            "tensor([[2.9806, 2.9806],\n",
            "        [2.9806, 2.9806]], grad_fn=<AddBackward0>)\n"
          ],
          "name": "stdout"
        },
        {
          "output_type": "execute_result",
          "data": {
            "text/plain": [
              "<graphviz.dot.Digraph at 0x7f559de82be0>"
            ],
            "image/svg+xml": "<?xml version=\"1.0\" encoding=\"UTF-8\" standalone=\"no\"?>\n<!DOCTYPE svg PUBLIC \"-//W3C//DTD SVG 1.1//EN\"\n \"http://www.w3.org/Graphics/SVG/1.1/DTD/svg11.dtd\">\n<!-- Generated by graphviz version 2.40.1 (20161225.0304)\n -->\n<!-- Title: %3 Pages: 1 -->\n<svg width=\"134pt\" height=\"157pt\"\n viewBox=\"0.00 0.00 134.00 157.00\" xmlns=\"http://www.w3.org/2000/svg\" xmlns:xlink=\"http://www.w3.org/1999/xlink\">\n<g id=\"graph0\" class=\"graph\" transform=\"scale(1 1) rotate(0) translate(4 153)\">\n<title>%3</title>\n<polygon fill=\"#ffffff\" stroke=\"transparent\" points=\"-4,4 -4,-153 130,-153 130,4 -4,4\"/>\n<!-- 140004396743760 -->\n<g id=\"node1\" class=\"node\">\n<title>140004396743760</title>\n<polygon fill=\"#caff70\" stroke=\"#000000\" points=\"109,-21 17,-21 17,0 109,0 109,-21\"/>\n<text text-anchor=\"middle\" x=\"63\" y=\"-7.4\" font-family=\"Times,serif\" font-size=\"12.00\" fill=\"#000000\">AddBackward0</text>\n</g>\n<!-- 140004396743592 -->\n<g id=\"node2\" class=\"node\">\n<title>140004396743592</title>\n<polygon fill=\"#d3d3d3\" stroke=\"#000000\" points=\"108.5,-78 17.5,-78 17.5,-57 108.5,-57 108.5,-78\"/>\n<text text-anchor=\"middle\" x=\"63\" y=\"-64.4\" font-family=\"Times,serif\" font-size=\"12.00\" fill=\"#000000\">MulBackward0</text>\n</g>\n<!-- 140004396743592&#45;&gt;140004396743760 -->\n<g id=\"edge1\" class=\"edge\">\n<title>140004396743592&#45;&gt;140004396743760</title>\n<path fill=\"none\" stroke=\"#000000\" d=\"M63,-56.7787C63,-49.6134 63,-39.9517 63,-31.3097\"/>\n<polygon fill=\"#000000\" stroke=\"#000000\" points=\"66.5001,-31.1732 63,-21.1732 59.5001,-31.1732 66.5001,-31.1732\"/>\n</g>\n<!-- 140004396743648 -->\n<g id=\"node3\" class=\"node\">\n<title>140004396743648</title>\n<polygon fill=\"#add8e6\" stroke=\"#000000\" points=\"54,-149 0,-149 0,-114 54,-114 54,-149\"/>\n<text text-anchor=\"middle\" x=\"27\" y=\"-121.4\" font-family=\"Times,serif\" font-size=\"12.00\" fill=\"#000000\"> (1, 1)</text>\n</g>\n<!-- 140004396743648&#45;&gt;140004396743592 -->\n<g id=\"edge2\" class=\"edge\">\n<title>140004396743648&#45;&gt;140004396743592</title>\n<path fill=\"none\" stroke=\"#000000\" d=\"M37.028,-113.6724C41.6838,-105.3956 47.2312,-95.5334 52.0015,-87.053\"/>\n<polygon fill=\"#000000\" stroke=\"#000000\" points=\"55.1159,-88.6551 56.9681,-78.2234 49.0149,-85.2233 55.1159,-88.6551\"/>\n</g>\n<!-- 140004396743928 -->\n<g id=\"node4\" class=\"node\">\n<title>140004396743928</title>\n<polygon fill=\"#add8e6\" stroke=\"#000000\" points=\"126,-149 72,-149 72,-114 126,-114 126,-149\"/>\n<text text-anchor=\"middle\" x=\"99\" y=\"-121.4\" font-family=\"Times,serif\" font-size=\"12.00\" fill=\"#000000\"> (2, 2)</text>\n</g>\n<!-- 140004396743928&#45;&gt;140004396743592 -->\n<g id=\"edge3\" class=\"edge\">\n<title>140004396743928&#45;&gt;140004396743592</title>\n<path fill=\"none\" stroke=\"#000000\" d=\"M88.972,-113.6724C84.3162,-105.3956 78.7688,-95.5334 73.9985,-87.053\"/>\n<polygon fill=\"#000000\" stroke=\"#000000\" points=\"76.9851,-85.2233 69.0319,-78.2234 70.8841,-88.6551 76.9851,-85.2233\"/>\n</g>\n</g>\n</svg>\n"
          },
          "metadata": {
            "tags": []
          },
          "execution_count": 39
        }
      ]
    },
    {
      "cell_type": "markdown",
      "metadata": {
        "id": "uSvS2bdKidcc",
        "colab_type": "text"
      },
      "source": [
        "\n",
        "## Playing with pytorch: linear regression"
      ]
    },
    {
      "cell_type": "markdown",
      "metadata": {
        "id": "UzjNRT-OSCzL",
        "colab_type": "text"
      },
      "source": [
        "Code for plotting the surface"
      ]
    },
    {
      "cell_type": "code",
      "metadata": {
        "id": "KhuyxIm1Rd0W",
        "colab_type": "code",
        "colab": {}
      },
      "source": [
        "import matplotlib.pyplot as plt\n",
        "import numpy as np\n",
        "from mpl_toolkits.mplot3d import Axes3D\n",
        "\n",
        "def plot_figs(fig_num, elev, azim, x, y, weights, bias):\n",
        "    fig = plt.figure(fig_num, figsize=(4, 3))\n",
        "    plt.clf()\n",
        "    ax = Axes3D(fig, elev=elev, azim=azim)\n",
        "    ax.scatter(x[:, 0], x[:, 1], y)\n",
        "    ax.plot_surface(np.array([[0, 0], [1, 1]]),\n",
        "                    np.array([[0, 1], [0, 1]]),\n",
        "                    (np.dot(np.array([[0, 0, 1, 1],\n",
        "                                          [0, 1, 0, 1]]).T, weights) + bias).reshape((2, 2)),\n",
        "                    alpha=.5)\n",
        "    ax.set_xlabel('x_1')\n",
        "    ax.set_ylabel('x_2')\n",
        "    ax.set_zlabel('y')\n",
        "    \n",
        "def plot_views(x, y, w, b):\n",
        "    # Generate the different figures from different views\n",
        "    elev = 43.5\n",
        "    azim = -110\n",
        "    plot_figs(1, elev, azim, x, y, w, b[0])\n",
        "\n",
        "    plt.show()"
      ],
      "execution_count": 0,
      "outputs": []
    },
    {
      "cell_type": "markdown",
      "metadata": {
        "id": "Bkt2h0X6SFmR",
        "colab_type": "text"
      },
      "source": [
        "Code for generating the 2D points"
      ]
    },
    {
      "cell_type": "code",
      "metadata": {
        "id": "14tvkKCyMwYD",
        "colab_type": "code",
        "outputId": "bc576af1-b9c6-41bc-94fa-8d642d320e6b",
        "colab": {
          "base_uri": "https://localhost:8080/",
          "height": 85
        }
      },
      "source": [
        "#Data generation (2D points)\n",
        "w_source = torch.tensor([2., -3.], dtype=torch.float).view(-1,1)\n",
        "b_source  = torch.tensor([1.], dtype=torch.float)\n",
        "\n",
        "x = torch.empty(30, 2).uniform_(0, 1) # input of the regression model\n",
        "\n",
        "print(x.shape)\n",
        "print(w_source.shape)\n",
        "print(b_source.shape)\n",
        "\n",
        "y = torch.matmul(x,w_source)+b_source # output of the regression model\n",
        "print(y.shape)"
      ],
      "execution_count": 41,
      "outputs": [
        {
          "output_type": "stream",
          "text": [
            "torch.Size([30, 2])\n",
            "torch.Size([2, 1])\n",
            "torch.Size([1])\n",
            "torch.Size([30, 1])\n"
          ],
          "name": "stdout"
        }
      ]
    },
    {
      "cell_type": "markdown",
      "metadata": {
        "id": "KW6YMS6tSMVr",
        "colab_type": "text"
      },
      "source": [
        "Plot the dataset"
      ]
    },
    {
      "cell_type": "code",
      "metadata": {
        "id": "rMRbqdZaRjCz",
        "colab_type": "code",
        "outputId": "57e29752-ab54-4a8e-a56e-fe08f2b3a545",
        "colab": {
          "base_uri": "https://localhost:8080/",
          "height": 247
        }
      },
      "source": [
        "plot_views(x.numpy(), y.numpy(), w_source.numpy(), b_source.numpy())"
      ],
      "execution_count": 42,
      "outputs": [
        {
          "output_type": "display_data",
          "data": {
            "image/png": "[encoded data removed]",
            "text/plain": [
              "<Figure size 288x216 with 1 Axes>"
            ]
          },
          "metadata": {
            "tags": []
          }
        }
      ]
    },
    {
      "cell_type": "code",
      "metadata": {
        "id": "bsGaEFPRiduc",
        "colab_type": "code",
        "outputId": "dc535ba3-34a3-4de2-b4c2-5de7bf8c6129",
        "colab": {
          "base_uri": "https://localhost:8080/",
          "height": 85
        }
      },
      "source": [
        "# randomly initialize learnable weights and bias\n",
        "w_t_init = torch.empty(2, 1).uniform_(-1, 1) \n",
        "b_t_init = torch.empty(1, 1).uniform_(-1, 1)\n",
        "\n",
        "print(\"Initial values of the parameters:\")\n",
        "print(w_t_init) \n",
        "print(b_t_init)\n",
        "\n"
      ],
      "execution_count": 43,
      "outputs": [
        {
          "output_type": "stream",
          "text": [
            "Initial values of the parameters:\n",
            "tensor([[-0.1790],\n",
            "        [ 0.1070]])\n",
            "tensor([[-0.4917]])\n"
          ],
          "name": "stdout"
        }
      ]
    },
    {
      "cell_type": "markdown",
      "metadata": {
        "id": "y2GD_KIBUTgS",
        "colab_type": "text"
      },
      "source": [
        "### Question: calculate the gradient of the loss and code it."
      ]
    },
    {
      "cell_type": "markdown",
      "metadata": {
        "id": "X8wEJCfN11Wn",
        "colab_type": "text"
      },
      "source": [
        "Criterion to minimize:\n",
        "\n",
        "$$\n",
        "J(w_t,b_t)=\\sum_{i=1}^{30}{(\\hat{y}_i-y_i)}^2=\\sum_{i=1}^{30}{(x_iw_t+b_t-y_i)}^2={\\parallel x w_t+b_t 1_{30}-y\\parallel}^2\n",
        "$$\n",
        "\n",
        "Gradient:\n",
        "\n",
        "$$\n",
        "\\frac{\\partial J(w_t,b_t)}{\\partial w_t}=2x^Txw_t+2x^T 1_{30} b_t-2x^T y=2x^T(xw_t+1_{30} b_t-y)\n",
        "$$\n",
        "\n",
        "$$\n",
        "\\frac{\\partial J(w_t,b_t)}{\\partial b_t}=2\\sum_{i=1}^{30}{(x_iw_t+b_t-y_i)}\n",
        "$$"
      ]
    },
    {
      "cell_type": "code",
      "metadata": {
        "id": "xSwsgVkpPE2i",
        "colab_type": "code",
        "colab": {}
      },
      "source": [
        "# our model forward pass\n",
        "def forward_t(x):\n",
        "    return x.mm(w_t)+b_t\n",
        "\n",
        "# Loss function\n",
        "def loss_t(x, y):\n",
        "    y_pred = forward_t(x)\n",
        "    return (y_pred - y).pow(2).sum()\n",
        "\n",
        "# compute gradient\n",
        "def gradient_t(x, y):  # d_loss/d_w, d_loss/d_c\n",
        "    return 2*torch.mm(torch.t(x),x.mm(w_t)+b_t - y), 2 * (x.mm(w_t)+b_t - y).sum()"
      ],
      "execution_count": 0,
      "outputs": []
    },
    {
      "cell_type": "markdown",
      "metadata": {
        "id": "7x8wNpUISp88",
        "colab_type": "text"
      },
      "source": [
        "Main loop for computing the estimate (gradient descent)"
      ]
    },
    {
      "cell_type": "markdown",
      "metadata": {
        "colab_type": "text",
        "id": "pAAxsXCqUSuR"
      },
      "source": [
        "### Question: code the gradient descent algorithm within the main loop."
      ]
    },
    {
      "cell_type": "code",
      "metadata": {
        "id": "zmh-_IHaidxp",
        "colab_type": "code",
        "outputId": "e50bfea4-8197-4563-d4b8-34e822524eb0",
        "colab": {
          "base_uri": "https://localhost:8080/",
          "height": 187
        }
      },
      "source": [
        "learning_rate = 1e-2\n",
        "\n",
        "w_t = w_t_init.clone()\n",
        "b_t = b_t_init.clone()\n",
        "\n",
        "for epoch in range(10):\n",
        "    l = loss_t(x,y)\n",
        "    grad_w, grad_b = gradient_t(x,y)\n",
        "    w_t = w_t - learning_rate * grad_w\n",
        "    b_t = b_t - learning_rate * grad_b\n",
        "    print(\"progress:\", \"epoch:\", epoch, \"loss\",l)"
      ],
      "execution_count": 45,
      "outputs": [
        {
          "output_type": "stream",
          "text": [
            "progress: epoch: 0 loss tensor(64.9407)\n",
            "progress: epoch: 1 loss tensor(42.7792)\n",
            "progress: epoch: 2 loss tensor(37.5443)\n",
            "progress: epoch: 3 loss tensor(33.1069)\n",
            "progress: epoch: 4 loss tensor(29.2042)\n",
            "progress: epoch: 5 loss tensor(25.7695)\n",
            "progress: epoch: 6 loss tensor(22.7463)\n",
            "progress: epoch: 7 loss tensor(20.0847)\n",
            "progress: epoch: 8 loss tensor(17.7412)\n",
            "progress: epoch: 9 loss tensor(15.6772)\n"
          ],
          "name": "stdout"
        }
      ]
    },
    {
      "cell_type": "code",
      "metadata": {
        "id": "87XspCGIid0t",
        "colab_type": "code",
        "outputId": "c9a30176-91e4-46b2-e454-535886864bd7",
        "colab": {
          "base_uri": "https://localhost:8080/",
          "height": 85
        }
      },
      "source": [
        "# After training\n",
        "print(\"Estimation of the parameters:\")\n",
        "print(w_t)\n",
        "print(b_t)"
      ],
      "execution_count": 46,
      "outputs": [
        {
          "output_type": "stream",
          "text": [
            "Estimation of the parameters:\n",
            "tensor([[ 1.1489],\n",
            "        [-1.0750]])\n",
            "tensor([[0.3160]])\n"
          ],
          "name": "stdout"
        }
      ]
    },
    {
      "cell_type": "markdown",
      "metadata": {
        "id": "sceg1L15TqSy",
        "colab_type": "text"
      },
      "source": [
        "### Question: Test a higger learning rate (e.g., learning_rate = 1). Explain what you observe."
      ]
    },
    {
      "cell_type": "code",
      "metadata": {
        "id": "SBhd0hOQJ0ZS",
        "colab_type": "code",
        "outputId": "851a13d8-baa0-4bf7-f727-12a58198c3c4",
        "colab": {
          "base_uri": "https://localhost:8080/",
          "height": 187
        }
      },
      "source": [
        "learning_rate = 1\n",
        "\n",
        "w_t = w_t_init.clone()\n",
        "b_t = b_t_init.clone()\n",
        "\n",
        "for epoch in range(10):\n",
        "    l = loss_t(x,y)\n",
        "    grad_w, grad_b = gradient_t(x,y)\n",
        "    # Complete the two following equalities\n",
        "    w_t = w_t - learning_rate * grad_w\n",
        "    b_t = b_t - learning_rate * grad_b\n",
        "    print(\"progress:\", \"epoch:\", epoch, \"loss\",l)"
      ],
      "execution_count": 0,
      "outputs": [
        {
          "output_type": "stream",
          "text": [
            "progress: epoch: 0 loss tensor(46.5524)\n",
            "progress: epoch: 1 loss tensor(23118.0488)\n",
            "progress: epoch: 2 loss tensor(31637160.)\n",
            "progress: epoch: 3 loss tensor(4.4862e+10)\n",
            "progress: epoch: 4 loss tensor(6.3681e+13)\n",
            "progress: epoch: 5 loss tensor(9.0395e+16)\n",
            "progress: epoch: 6 loss tensor(1.2832e+20)\n",
            "progress: epoch: 7 loss tensor(1.8214e+23)\n",
            "progress: epoch: 8 loss tensor(2.5855e+26)\n",
            "progress: epoch: 9 loss tensor(3.6702e+29)\n"
          ],
          "name": "stdout"
        }
      ]
    },
    {
      "cell_type": "markdown",
      "metadata": {
        "id": "gqWJFYZSTX_m",
        "colab_type": "text"
      },
      "source": [
        "### Question: How to improve the quality of the estimate?"
      ]
    },
    {
      "cell_type": "markdown",
      "metadata": {
        "id": "YVLTy7knfMjt",
        "colab_type": "text"
      },
      "source": [
        "We could use an algorithm to fine tune the learning rate parameters. We could also run the same algorithm a certain number of times and pick the best estimate."
      ]
    }
  ]
}